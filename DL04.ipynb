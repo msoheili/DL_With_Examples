{
  "nbformat": 4,
  "nbformat_minor": 0,
  "metadata": {
    "colab": {
      "name": "DL04.ipynb",
      "provenance": [],
      "collapsed_sections": []
    },
    "kernelspec": {
      "name": "python3",
      "display_name": "Python 3"
    },
    "language_info": {
      "name": "python"
    },
    "accelerator": "GPU"
  },
  "cells": [
    {
      "cell_type": "code",
      "metadata": {
        "id": "gFwbb6TQJxsd"
      },
      "source": [
        "import cv2\n",
        "import numpy as np\n",
        "from tensorflow import keras\n",
        "from keras import layers\n",
        "from matplotlib import pyplot as plt\n",
        "%matplotlib inline"
      ],
      "execution_count": null,
      "outputs": []
    },
    {
      "cell_type": "code",
      "metadata": {
        "colab": {
          "base_uri": "https://localhost:8080/"
        },
        "id": "TChufa7wKAEH",
        "outputId": "aa5a7a33-12c1-47d2-e378-0a31723f0a2a"
      },
      "source": [
        "(x_train,y_train),(x_test,y_test)=keras.datasets.mnist.load_data()"
      ],
      "execution_count": null,
      "outputs": [
        {
          "output_type": "stream",
          "name": "stdout",
          "text": [
            "Downloading data from https://storage.googleapis.com/tensorflow/tf-keras-datasets/mnist.npz\n",
            "11493376/11490434 [==============================] - 0s 0us/step\n",
            "11501568/11490434 [==============================] - 0s 0us/step\n"
          ]
        }
      ]
    },
    {
      "cell_type": "code",
      "metadata": {
        "id": "GSE7bwwFKDhX"
      },
      "source": [
        "x_train  = x_train/255\n",
        "x_test = x_test/255\n",
        "x_train = np.expand_dims(x_train,-1)\n",
        "x_test = np.expand_dims(x_test,-1)\n",
        "num_classes = 10\n",
        "y_train = keras.utils.to_categorical(y_train,num_classes)\n",
        "y_test = keras.utils.to_categorical(y_test,num_classes)"
      ],
      "execution_count": null,
      "outputs": []
    },
    {
      "cell_type": "code",
      "metadata": {
        "colab": {
          "base_uri": "https://localhost:8080/"
        },
        "id": "hCZCDzO5P82L",
        "outputId": "8ecc0f85-c06c-4911-af8a-51880b009ac1"
      },
      "source": [
        "x_train[0].shape"
      ],
      "execution_count": null,
      "outputs": [
        {
          "output_type": "execute_result",
          "data": {
            "text/plain": [
              "(28, 28, 1)"
            ]
          },
          "metadata": {},
          "execution_count": 4
        }
      ]
    },
    {
      "cell_type": "code",
      "metadata": {
        "colab": {
          "base_uri": "https://localhost:8080/"
        },
        "id": "KegAvhkEKJN8",
        "outputId": "174f47c8-5e5b-4f56-94bd-e1519f504a13"
      },
      "source": [
        "inputImg = layers.Input(shape=(28,28,1),name=\"inputLayer\",dtype=\"float\")\n",
        "x=layers.Conv2D(16,(3,3),activation=\"relu\",padding=\"same\")(inputImg)\n",
        "x=layers.AveragePooling2D((2,2))(x)\n",
        "x=layers.Conv2D(32,(3,3),activation=\"relu\",padding=\"same\")(x)\n",
        "x=layers.AveragePooling2D((2,2))(x)\n",
        "x=layers.Conv2D(64,(3,3),activation=\"relu\",padding=\"same\")(x)\n",
        "x=layers.AveragePooling2D((2,2))(x)\n",
        "x=layers.Flatten()(x)\n",
        "out=layers.Dense(num_classes,activation=\"softmax\")(x)\n",
        "\n",
        "model = keras.Model(inputImg,out)\n",
        "model.compile(loss=\"categorical_crossentropy\",optimizer=\"adam\",metrics=[\"accuracy\"])\n",
        "model.summary()\n"
      ],
      "execution_count": null,
      "outputs": [
        {
          "output_type": "stream",
          "name": "stdout",
          "text": [
            "Model: \"model\"\n",
            "_________________________________________________________________\n",
            " Layer (type)                Output Shape              Param #   \n",
            "=================================================================\n",
            " inputLayer (InputLayer)     [(None, 28, 28, 1)]       0         \n",
            "                                                                 \n",
            " conv2d (Conv2D)             (None, 28, 28, 16)        160       \n",
            "                                                                 \n",
            " average_pooling2d (AverageP  (None, 14, 14, 16)       0         \n",
            " ooling2D)                                                       \n",
            "                                                                 \n",
            " conv2d_1 (Conv2D)           (None, 14, 14, 32)        4640      \n",
            "                                                                 \n",
            " average_pooling2d_1 (Averag  (None, 7, 7, 32)         0         \n",
            " ePooling2D)                                                     \n",
            "                                                                 \n",
            " conv2d_2 (Conv2D)           (None, 7, 7, 64)          18496     \n",
            "                                                                 \n",
            " average_pooling2d_2 (Averag  (None, 3, 3, 64)         0         \n",
            " ePooling2D)                                                     \n",
            "                                                                 \n",
            " flatten (Flatten)           (None, 576)               0         \n",
            "                                                                 \n",
            " dense (Dense)               (None, 10)                5770      \n",
            "                                                                 \n",
            "=================================================================\n",
            "Total params: 29,066\n",
            "Trainable params: 29,066\n",
            "Non-trainable params: 0\n",
            "_________________________________________________________________\n"
          ]
        }
      ]
    },
    {
      "cell_type": "code",
      "metadata": {
        "colab": {
          "base_uri": "https://localhost:8080/"
        },
        "id": "d0PYts-vu402",
        "outputId": "6a998d88-92ec-46c8-e032-c61b4aa6e68d"
      },
      "source": [
        "checkpoint = keras.callbacks.ModelCheckpoint(\"model-{epoch:03d}-{accuracy}-{val_accuracy}.h5\",save_best_only=True,monitor=\"val_accuracy\")\n",
        "model.fit(x_train,y_train,epochs=20,batch_size=20,validation_split=0.1,callbacks=[checkpoint])"
      ],
      "execution_count": null,
      "outputs": [
        {
          "output_type": "stream",
          "name": "stdout",
          "text": [
            "Epoch 1/20\n",
            "2700/2700 [==============================] - 25s 6ms/step - loss: 0.2313 - accuracy: 0.9283 - val_loss: 0.0956 - val_accuracy: 0.9700\n",
            "Epoch 2/20\n",
            "2700/2700 [==============================] - 15s 6ms/step - loss: 0.0829 - accuracy: 0.9747 - val_loss: 0.0554 - val_accuracy: 0.9858\n",
            "Epoch 3/20\n",
            "2700/2700 [==============================] - 16s 6ms/step - loss: 0.0548 - accuracy: 0.9832 - val_loss: 0.0401 - val_accuracy: 0.9888\n",
            "Epoch 4/20\n",
            "2700/2700 [==============================] - 16s 6ms/step - loss: 0.0435 - accuracy: 0.9866 - val_loss: 0.0372 - val_accuracy: 0.9895\n",
            "Epoch 5/20\n",
            "2700/2700 [==============================] - 15s 6ms/step - loss: 0.0333 - accuracy: 0.9897 - val_loss: 0.0371 - val_accuracy: 0.9893\n",
            "Epoch 6/20\n",
            "2700/2700 [==============================] - 16s 6ms/step - loss: 0.0283 - accuracy: 0.9913 - val_loss: 0.0336 - val_accuracy: 0.9907\n",
            "Epoch 7/20\n",
            "2700/2700 [==============================] - 15s 6ms/step - loss: 0.0232 - accuracy: 0.9923 - val_loss: 0.0348 - val_accuracy: 0.9908\n",
            "Epoch 8/20\n",
            "2700/2700 [==============================] - 16s 6ms/step - loss: 0.0201 - accuracy: 0.9935 - val_loss: 0.0315 - val_accuracy: 0.9905\n",
            "Epoch 9/20\n",
            "2700/2700 [==============================] - 15s 6ms/step - loss: 0.0168 - accuracy: 0.9943 - val_loss: 0.0318 - val_accuracy: 0.9918\n",
            "Epoch 10/20\n",
            "2700/2700 [==============================] - 15s 6ms/step - loss: 0.0142 - accuracy: 0.9952 - val_loss: 0.0398 - val_accuracy: 0.9893\n",
            "Epoch 11/20\n",
            "2700/2700 [==============================] - 15s 6ms/step - loss: 0.0129 - accuracy: 0.9959 - val_loss: 0.0297 - val_accuracy: 0.9928\n",
            "Epoch 12/20\n",
            "2700/2700 [==============================] - 16s 6ms/step - loss: 0.0112 - accuracy: 0.9959 - val_loss: 0.0307 - val_accuracy: 0.9920\n",
            "Epoch 13/20\n",
            "2700/2700 [==============================] - 15s 6ms/step - loss: 0.0093 - accuracy: 0.9968 - val_loss: 0.0290 - val_accuracy: 0.9930\n",
            "Epoch 14/20\n",
            "2700/2700 [==============================] - 16s 6ms/step - loss: 0.0087 - accuracy: 0.9971 - val_loss: 0.0294 - val_accuracy: 0.9935\n",
            "Epoch 15/20\n",
            "2700/2700 [==============================] - 16s 6ms/step - loss: 0.0085 - accuracy: 0.9971 - val_loss: 0.0288 - val_accuracy: 0.9930\n",
            "Epoch 16/20\n",
            "2700/2700 [==============================] - 15s 6ms/step - loss: 0.0067 - accuracy: 0.9975 - val_loss: 0.0432 - val_accuracy: 0.9910\n",
            "Epoch 17/20\n",
            "2700/2700 [==============================] - 15s 6ms/step - loss: 0.0059 - accuracy: 0.9980 - val_loss: 0.0341 - val_accuracy: 0.9932\n",
            "Epoch 18/20\n",
            "2700/2700 [==============================] - 15s 6ms/step - loss: 0.0079 - accuracy: 0.9974 - val_loss: 0.0396 - val_accuracy: 0.9908\n",
            "Epoch 19/20\n",
            "2700/2700 [==============================] - 15s 6ms/step - loss: 0.0051 - accuracy: 0.9982 - val_loss: 0.0414 - val_accuracy: 0.9925\n",
            "Epoch 20/20\n",
            "2700/2700 [==============================] - 15s 6ms/step - loss: 0.0066 - accuracy: 0.9978 - val_loss: 0.0390 - val_accuracy: 0.9925\n"
          ]
        },
        {
          "output_type": "execute_result",
          "data": {
            "text/plain": [
              "<keras.callbacks.History at 0x7f65003b9710>"
            ]
          },
          "metadata": {},
          "execution_count": 6
        }
      ]
    },
    {
      "cell_type": "code",
      "metadata": {
        "colab": {
          "base_uri": "https://localhost:8080/"
        },
        "id": "aN5gykkpwd60",
        "outputId": "0799f9b4-d05c-44fd-d955-0ea2b97f1813"
      },
      "source": [
        "sModel=keras.models.load_model(\"model-014-0.9970740675926208-0.9934999942779541.h5\")\n",
        "sModel.evaluate(x_test,y_test)"
      ],
      "execution_count": null,
      "outputs": [
        {
          "output_type": "stream",
          "name": "stdout",
          "text": [
            "313/313 [==============================] - 2s 5ms/step - loss: 0.0283 - accuracy: 0.9927\n"
          ]
        },
        {
          "output_type": "execute_result",
          "data": {
            "text/plain": [
              "[0.028283221647143364, 0.9926999807357788]"
            ]
          },
          "metadata": {},
          "execution_count": 7
        }
      ]
    },
    {
      "cell_type": "code",
      "metadata": {
        "colab": {
          "base_uri": "https://localhost:8080/"
        },
        "id": "O4uqLv0cxGyD",
        "outputId": "d0721d8a-b1dd-4611-9f33-7e38975f698a"
      },
      "source": [
        "inputImg = layers.Input(shape=(28,28,1),name=\"inputLayer\",dtype=\"float\")\n",
        "x=layers.Conv2D(16,(3,3),activation=\"relu\",padding=\"same\")(inputImg)\n",
        "x=layers.AveragePooling2D((2,2))(x)\n",
        "x=layers.Conv2D(32,(3,3),activation=\"relu\",padding=\"same\")(x)\n",
        "x=layers.AveragePooling2D((2,2))(x)\n",
        "x=layers.Dropout(0.3)(x)\n",
        "x=layers.Conv2D(64,(3,3),activation=\"relu\",padding=\"same\")(x)\n",
        "x=layers.AveragePooling2D((2,2))(x)\n",
        "x=layers.Dropout(0.3)(x)\n",
        "x=layers.Flatten()(x)\n",
        "x=layers.Dropout(0.3)(x)\n",
        "out=layers.Dense(num_classes,activation=\"softmax\")(x)\n",
        "\n",
        "model2 = keras.Model(inputImg,out)\n",
        "model2.compile(loss=\"categorical_crossentropy\",optimizer=\"adam\",metrics=[\"accuracy\"])\n",
        "model2.summary()"
      ],
      "execution_count": null,
      "outputs": [
        {
          "output_type": "stream",
          "name": "stdout",
          "text": [
            "Model: \"model_1\"\n",
            "_________________________________________________________________\n",
            " Layer (type)                Output Shape              Param #   \n",
            "=================================================================\n",
            " inputLayer (InputLayer)     [(None, 28, 28, 1)]       0         \n",
            "                                                                 \n",
            " conv2d_6 (Conv2D)           (None, 28, 28, 16)        160       \n",
            "                                                                 \n",
            " average_pooling2d_5 (Averag  (None, 14, 14, 16)       0         \n",
            " ePooling2D)                                                     \n",
            "                                                                 \n",
            " conv2d_7 (Conv2D)           (None, 14, 14, 32)        4640      \n",
            "                                                                 \n",
            " average_pooling2d_6 (Averag  (None, 7, 7, 32)         0         \n",
            " ePooling2D)                                                     \n",
            "                                                                 \n",
            " dropout_1 (Dropout)         (None, 7, 7, 32)          0         \n",
            "                                                                 \n",
            " conv2d_8 (Conv2D)           (None, 7, 7, 64)          18496     \n",
            "                                                                 \n",
            " average_pooling2d_7 (Averag  (None, 3, 3, 64)         0         \n",
            " ePooling2D)                                                     \n",
            "                                                                 \n",
            " dropout_2 (Dropout)         (None, 3, 3, 64)          0         \n",
            "                                                                 \n",
            " flatten_1 (Flatten)         (None, 576)               0         \n",
            "                                                                 \n",
            " dropout_3 (Dropout)         (None, 576)               0         \n",
            "                                                                 \n",
            " dense_1 (Dense)             (None, 10)                5770      \n",
            "                                                                 \n",
            "=================================================================\n",
            "Total params: 29,066\n",
            "Trainable params: 29,066\n",
            "Non-trainable params: 0\n",
            "_________________________________________________________________\n"
          ]
        }
      ]
    },
    {
      "cell_type": "code",
      "metadata": {
        "colab": {
          "base_uri": "https://localhost:8080/"
        },
        "id": "FDQbTB-ixrCh",
        "outputId": "cfd269b2-e8c3-46c1-8687-d55931102383"
      },
      "source": [
        "checkpoint = keras.callbacks.ModelCheckpoint(\"model-{epoch:03d}-{accuracy}-{val_accuracy}.h5\",save_best_only=True,monitor=\"val_accuracy\")\n",
        "model2.fit(x_train,y_train,epochs=20,batch_size=20,validation_split=0.1,callbacks=[checkpoint])"
      ],
      "execution_count": null,
      "outputs": [
        {
          "output_type": "stream",
          "name": "stdout",
          "text": [
            "Epoch 1/20\n",
            "2700/2700 [==============================] - 35s 6ms/step - loss: 0.3603 - accuracy: 0.8839 - val_loss: 0.0944 - val_accuracy: 0.9718\n",
            "Epoch 2/20\n",
            "2700/2700 [==============================] - 16s 6ms/step - loss: 0.1473 - accuracy: 0.9553 - val_loss: 0.0564 - val_accuracy: 0.9855\n",
            "Epoch 3/20\n",
            "2700/2700 [==============================] - 16s 6ms/step - loss: 0.1110 - accuracy: 0.9653 - val_loss: 0.0459 - val_accuracy: 0.9875\n",
            "Epoch 4/20\n",
            "2700/2700 [==============================] - 16s 6ms/step - loss: 0.0913 - accuracy: 0.9716 - val_loss: 0.0374 - val_accuracy: 0.9897\n",
            "Epoch 5/20\n",
            "2700/2700 [==============================] - 16s 6ms/step - loss: 0.0830 - accuracy: 0.9735 - val_loss: 0.0369 - val_accuracy: 0.9903\n",
            "Epoch 6/20\n",
            "2700/2700 [==============================] - 16s 6ms/step - loss: 0.0747 - accuracy: 0.9760 - val_loss: 0.0311 - val_accuracy: 0.9918\n",
            "Epoch 7/20\n",
            "2700/2700 [==============================] - 15s 6ms/step - loss: 0.0676 - accuracy: 0.9791 - val_loss: 0.0275 - val_accuracy: 0.9933\n",
            "Epoch 8/20\n",
            "2700/2700 [==============================] - 16s 6ms/step - loss: 0.0640 - accuracy: 0.9797 - val_loss: 0.0277 - val_accuracy: 0.9937\n",
            "Epoch 9/20\n",
            "2700/2700 [==============================] - 16s 6ms/step - loss: 0.0602 - accuracy: 0.9812 - val_loss: 0.0265 - val_accuracy: 0.9930\n",
            "Epoch 10/20\n",
            "2700/2700 [==============================] - 16s 6ms/step - loss: 0.0583 - accuracy: 0.9813 - val_loss: 0.0279 - val_accuracy: 0.9928\n",
            "Epoch 11/20\n",
            "2700/2700 [==============================] - 16s 6ms/step - loss: 0.0554 - accuracy: 0.9826 - val_loss: 0.0294 - val_accuracy: 0.9927\n",
            "Epoch 12/20\n",
            "2700/2700 [==============================] - 16s 6ms/step - loss: 0.0517 - accuracy: 0.9836 - val_loss: 0.0259 - val_accuracy: 0.9927\n",
            "Epoch 13/20\n",
            "2700/2700 [==============================] - 16s 6ms/step - loss: 0.0513 - accuracy: 0.9839 - val_loss: 0.0231 - val_accuracy: 0.9942\n",
            "Epoch 14/20\n",
            "2700/2700 [==============================] - 16s 6ms/step - loss: 0.0495 - accuracy: 0.9844 - val_loss: 0.0239 - val_accuracy: 0.9942\n",
            "Epoch 15/20\n",
            "2700/2700 [==============================] - 15s 6ms/step - loss: 0.0467 - accuracy: 0.9851 - val_loss: 0.0266 - val_accuracy: 0.9935\n",
            "Epoch 16/20\n",
            "2700/2700 [==============================] - 16s 6ms/step - loss: 0.0477 - accuracy: 0.9843 - val_loss: 0.0237 - val_accuracy: 0.9943\n",
            "Epoch 17/20\n",
            "2700/2700 [==============================] - 15s 6ms/step - loss: 0.0451 - accuracy: 0.9856 - val_loss: 0.0261 - val_accuracy: 0.9932\n",
            "Epoch 18/20\n",
            "2700/2700 [==============================] - 15s 6ms/step - loss: 0.0443 - accuracy: 0.9859 - val_loss: 0.0240 - val_accuracy: 0.9948\n",
            "Epoch 19/20\n",
            "2700/2700 [==============================] - 16s 6ms/step - loss: 0.0452 - accuracy: 0.9858 - val_loss: 0.0263 - val_accuracy: 0.9927\n",
            "Epoch 20/20\n",
            "2700/2700 [==============================] - 15s 6ms/step - loss: 0.0441 - accuracy: 0.9857 - val_loss: 0.0266 - val_accuracy: 0.9938\n"
          ]
        },
        {
          "output_type": "execute_result",
          "data": {
            "text/plain": [
              "<keras.callbacks.History at 0x7f649055cb50>"
            ]
          },
          "metadata": {},
          "execution_count": 12
        }
      ]
    },
    {
      "cell_type": "code",
      "metadata": {
        "colab": {
          "base_uri": "https://localhost:8080/"
        },
        "id": "1tpgYXnAzRNE",
        "outputId": "5e9bb4f0-25df-4137-d97a-8e87456b6c33"
      },
      "source": [
        "model2.fit(x_train,y_train,epochs=10,batch_size=20,validation_split=0.1,callbacks=[checkpoint])"
      ],
      "execution_count": null,
      "outputs": [
        {
          "output_type": "stream",
          "name": "stdout",
          "text": [
            "Epoch 1/10\n",
            "2700/2700 [==============================] - 16s 6ms/step - loss: 0.0428 - accuracy: 0.9870 - val_loss: 0.0249 - val_accuracy: 0.9938\n",
            "Epoch 2/10\n",
            "2700/2700 [==============================] - 16s 6ms/step - loss: 0.0409 - accuracy: 0.9865 - val_loss: 0.0246 - val_accuracy: 0.9943\n",
            "Epoch 3/10\n",
            "2700/2700 [==============================] - 16s 6ms/step - loss: 0.0413 - accuracy: 0.9873 - val_loss: 0.0243 - val_accuracy: 0.9938\n",
            "Epoch 4/10\n",
            "2700/2700 [==============================] - 16s 6ms/step - loss: 0.0395 - accuracy: 0.9873 - val_loss: 0.0235 - val_accuracy: 0.9945\n",
            "Epoch 5/10\n",
            "2700/2700 [==============================] - 16s 6ms/step - loss: 0.0396 - accuracy: 0.9877 - val_loss: 0.0255 - val_accuracy: 0.9938\n",
            "Epoch 6/10\n",
            "2700/2700 [==============================] - 16s 6ms/step - loss: 0.0401 - accuracy: 0.9876 - val_loss: 0.0232 - val_accuracy: 0.9940\n",
            "Epoch 7/10\n",
            "2700/2700 [==============================] - 16s 6ms/step - loss: 0.0373 - accuracy: 0.9879 - val_loss: 0.0243 - val_accuracy: 0.9945\n",
            "Epoch 8/10\n",
            "2700/2700 [==============================] - 16s 6ms/step - loss: 0.0356 - accuracy: 0.9882 - val_loss: 0.0237 - val_accuracy: 0.9938\n",
            "Epoch 9/10\n",
            "2700/2700 [==============================] - 16s 6ms/step - loss: 0.0384 - accuracy: 0.9872 - val_loss: 0.0228 - val_accuracy: 0.9938\n",
            "Epoch 10/10\n",
            "2700/2700 [==============================] - 16s 6ms/step - loss: 0.0348 - accuracy: 0.9886 - val_loss: 0.0232 - val_accuracy: 0.9950\n"
          ]
        },
        {
          "output_type": "execute_result",
          "data": {
            "text/plain": [
              "<keras.callbacks.History at 0x7f6490383850>"
            ]
          },
          "metadata": {},
          "execution_count": 13
        }
      ]
    },
    {
      "cell_type": "code",
      "metadata": {
        "colab": {
          "base_uri": "https://localhost:8080/"
        },
        "id": "1ia4GxcA0DIg",
        "outputId": "af62ee5b-e34d-4da5-cc32-c450c81f2edc"
      },
      "source": [
        "model3 = keras.models.load_model(\"model-010-0.9885740876197815-0.9950000047683716.h5\")\n",
        "model3.evaluate(x_test,y_test)"
      ],
      "execution_count": null,
      "outputs": [
        {
          "output_type": "stream",
          "name": "stdout",
          "text": [
            "313/313 [==============================] - 2s 4ms/step - loss: 0.0171 - accuracy: 0.9951\n"
          ]
        },
        {
          "output_type": "execute_result",
          "data": {
            "text/plain": [
              "[0.017134500667452812, 0.9951000213623047]"
            ]
          },
          "metadata": {},
          "execution_count": 14
        }
      ]
    },
    {
      "cell_type": "code",
      "metadata": {
        "colab": {
          "base_uri": "https://localhost:8080/"
        },
        "id": "oPg_o7ZR1B3E",
        "outputId": "cb203fe6-0f61-480f-f458-d09b0ef7a7a9"
      },
      "source": [
        "inputImg = layers.Input(shape=(28,28,1),name=\"inputLayer\",dtype=\"float\")\n",
        "x=layers.Conv2D(16,(3,3),activation=\"relu\",padding=\"same\")(inputImg)\n",
        "x=layers.AveragePooling2D((2,2))(x)\n",
        "x=layers.BatchNormalization()(x)\n",
        "x=layers.Conv2D(32,(3,3),activation=\"relu\",padding=\"same\")(x)\n",
        "x=layers.AveragePooling2D((2,2))(x)\n",
        "x=layers.BatchNormalization()(x)\n",
        "x=layers.Dropout(0.3)(x)\n",
        "x=layers.Conv2D(64,(3,3),activation=\"relu\",padding=\"same\")(x)\n",
        "x=layers.AveragePooling2D((2,2))(x)\n",
        "x=layers.BatchNormalization()(x)\n",
        "x=layers.Dropout(0.3)(x)\n",
        "x=layers.Flatten()(x)\n",
        "x=layers.Dropout(0.3)(x)\n",
        "out=layers.Dense(num_classes,activation=\"softmax\")(x)\n",
        "\n",
        "model4 = keras.Model(inputImg,out)\n",
        "model4.compile(loss=\"categorical_crossentropy\",optimizer=\"adam\",metrics=[\"accuracy\"])\n",
        "model4.summary()"
      ],
      "execution_count": null,
      "outputs": [
        {
          "output_type": "stream",
          "name": "stdout",
          "text": [
            "Model: \"model_2\"\n",
            "_________________________________________________________________\n",
            " Layer (type)                Output Shape              Param #   \n",
            "=================================================================\n",
            " inputLayer (InputLayer)     [(None, 28, 28, 1)]       0         \n",
            "                                                                 \n",
            " conv2d_9 (Conv2D)           (None, 28, 28, 16)        160       \n",
            "                                                                 \n",
            " average_pooling2d_8 (Averag  (None, 14, 14, 16)       0         \n",
            " ePooling2D)                                                     \n",
            "                                                                 \n",
            " batch_normalization (BatchN  (None, 14, 14, 16)       64        \n",
            " ormalization)                                                   \n",
            "                                                                 \n",
            " conv2d_10 (Conv2D)          (None, 14, 14, 32)        4640      \n",
            "                                                                 \n",
            " average_pooling2d_9 (Averag  (None, 7, 7, 32)         0         \n",
            " ePooling2D)                                                     \n",
            "                                                                 \n",
            " batch_normalization_1 (Batc  (None, 7, 7, 32)         128       \n",
            " hNormalization)                                                 \n",
            "                                                                 \n",
            " dropout_4 (Dropout)         (None, 7, 7, 32)          0         \n",
            "                                                                 \n",
            " conv2d_11 (Conv2D)          (None, 7, 7, 64)          18496     \n",
            "                                                                 \n",
            " average_pooling2d_10 (Avera  (None, 3, 3, 64)         0         \n",
            " gePooling2D)                                                    \n",
            "                                                                 \n",
            " batch_normalization_2 (Batc  (None, 3, 3, 64)         256       \n",
            " hNormalization)                                                 \n",
            "                                                                 \n",
            " dropout_5 (Dropout)         (None, 3, 3, 64)          0         \n",
            "                                                                 \n",
            " flatten_2 (Flatten)         (None, 576)               0         \n",
            "                                                                 \n",
            " dropout_6 (Dropout)         (None, 576)               0         \n",
            "                                                                 \n",
            " dense_2 (Dense)             (None, 10)                5770      \n",
            "                                                                 \n",
            "=================================================================\n",
            "Total params: 29,514\n",
            "Trainable params: 29,290\n",
            "Non-trainable params: 224\n",
            "_________________________________________________________________\n"
          ]
        }
      ]
    },
    {
      "cell_type": "code",
      "metadata": {
        "colab": {
          "base_uri": "https://localhost:8080/"
        },
        "id": "Z43GAk4k1h4j",
        "outputId": "3fcc1db8-925d-4466-8501-43786595c677"
      },
      "source": [
        "checkpoint = keras.callbacks.ModelCheckpoint(\"model-{epoch:03d}-{accuracy}-{val_accuracy}.h5\",save_best_only=True,monitor=\"val_accuracy\")\n",
        "model4.fit(x_train,y_train,epochs=20,batch_size=20,validation_split=0.1,callbacks=[checkpoint])"
      ],
      "execution_count": null,
      "outputs": [
        {
          "output_type": "stream",
          "name": "stdout",
          "text": [
            "Epoch 1/20\n",
            "2700/2700 [==============================] - 18s 6ms/step - loss: 0.2148 - accuracy: 0.9320 - val_loss: 0.0639 - val_accuracy: 0.9820\n",
            "Epoch 2/20\n",
            "2700/2700 [==============================] - 17s 6ms/step - loss: 0.0936 - accuracy: 0.9704 - val_loss: 0.0375 - val_accuracy: 0.9902\n",
            "Epoch 3/20\n",
            "2700/2700 [==============================] - 17s 6ms/step - loss: 0.0742 - accuracy: 0.9773 - val_loss: 0.0348 - val_accuracy: 0.9912\n",
            "Epoch 4/20\n",
            "2700/2700 [==============================] - 17s 6ms/step - loss: 0.0666 - accuracy: 0.9788 - val_loss: 0.0401 - val_accuracy: 0.9885\n",
            "Epoch 5/20\n",
            "2700/2700 [==============================] - 17s 6ms/step - loss: 0.0607 - accuracy: 0.9813 - val_loss: 0.0323 - val_accuracy: 0.9923\n",
            "Epoch 6/20\n",
            "2700/2700 [==============================] - 17s 6ms/step - loss: 0.0550 - accuracy: 0.9829 - val_loss: 0.0308 - val_accuracy: 0.9917\n",
            "Epoch 7/20\n",
            "2700/2700 [==============================] - 18s 7ms/step - loss: 0.0510 - accuracy: 0.9844 - val_loss: 0.0255 - val_accuracy: 0.9932\n",
            "Epoch 8/20\n",
            "2700/2700 [==============================] - 17s 6ms/step - loss: 0.0488 - accuracy: 0.9845 - val_loss: 0.0271 - val_accuracy: 0.9923\n",
            "Epoch 9/20\n",
            "2700/2700 [==============================] - 17s 6ms/step - loss: 0.0456 - accuracy: 0.9855 - val_loss: 0.0250 - val_accuracy: 0.9927\n",
            "Epoch 10/20\n",
            "2700/2700 [==============================] - 17s 6ms/step - loss: 0.0429 - accuracy: 0.9866 - val_loss: 0.0281 - val_accuracy: 0.9920\n",
            "Epoch 11/20\n",
            "2700/2700 [==============================] - 17s 6ms/step - loss: 0.0402 - accuracy: 0.9872 - val_loss: 0.0273 - val_accuracy: 0.9932\n",
            "Epoch 12/20\n",
            "2700/2700 [==============================] - 17s 6ms/step - loss: 0.0392 - accuracy: 0.9869 - val_loss: 0.0245 - val_accuracy: 0.9942\n",
            "Epoch 13/20\n",
            "2700/2700 [==============================] - 18s 6ms/step - loss: 0.0383 - accuracy: 0.9878 - val_loss: 0.0248 - val_accuracy: 0.9937\n",
            "Epoch 14/20\n",
            "2700/2700 [==============================] - 18s 7ms/step - loss: 0.0352 - accuracy: 0.9886 - val_loss: 0.0254 - val_accuracy: 0.9927\n",
            "Epoch 15/20\n",
            "2700/2700 [==============================] - 18s 7ms/step - loss: 0.0348 - accuracy: 0.9892 - val_loss: 0.0211 - val_accuracy: 0.9945\n",
            "Epoch 16/20\n",
            "2700/2700 [==============================] - 17s 6ms/step - loss: 0.0347 - accuracy: 0.9887 - val_loss: 0.0237 - val_accuracy: 0.9937\n",
            "Epoch 17/20\n",
            "2700/2700 [==============================] - 17s 6ms/step - loss: 0.0359 - accuracy: 0.9884 - val_loss: 0.0214 - val_accuracy: 0.9938\n",
            "Epoch 18/20\n",
            "2700/2700 [==============================] - 17s 6ms/step - loss: 0.0315 - accuracy: 0.9898 - val_loss: 0.0217 - val_accuracy: 0.9935\n",
            "Epoch 19/20\n",
            "2700/2700 [==============================] - 18s 7ms/step - loss: 0.0308 - accuracy: 0.9900 - val_loss: 0.0229 - val_accuracy: 0.9945\n",
            "Epoch 20/20\n",
            "2700/2700 [==============================] - 17s 6ms/step - loss: 0.0314 - accuracy: 0.9901 - val_loss: 0.0227 - val_accuracy: 0.9943\n"
          ]
        },
        {
          "output_type": "execute_result",
          "data": {
            "text/plain": [
              "<keras.callbacks.History at 0x7f641a4fd5d0>"
            ]
          },
          "metadata": {},
          "execution_count": 16
        }
      ]
    },
    {
      "cell_type": "code",
      "metadata": {
        "colab": {
          "base_uri": "https://localhost:8080/"
        },
        "id": "0PDjhd7H3BBW",
        "outputId": "709dcbbf-6a1a-44c7-d5eb-ee20ad96ad44"
      },
      "source": [
        "model5 = keras.models.load_model(\"model-015-0.989203691482544-0.9944999814033508.h5\")\n",
        "model5.evaluate(x_test,y_test)"
      ],
      "execution_count": null,
      "outputs": [
        {
          "output_type": "stream",
          "name": "stdout",
          "text": [
            "313/313 [==============================] - 2s 5ms/step - loss: 0.0175 - accuracy: 0.9938\n"
          ]
        },
        {
          "output_type": "execute_result",
          "data": {
            "text/plain": [
              "[0.017524216324090958, 0.9937999844551086]"
            ]
          },
          "metadata": {},
          "execution_count": 17
        }
      ]
    },
    {
      "cell_type": "code",
      "metadata": {
        "colab": {
          "base_uri": "https://localhost:8080/"
        },
        "id": "q9yEAK0I47LG",
        "outputId": "4bd6e161-5d46-4e67-d223-22b1802d6bcd"
      },
      "source": [
        "inputImg = layers.Input(shape=(28,28,1),name=\"inputLayer\",dtype=\"float\")\n",
        "x=layers.Conv2D(16,(3,3),activation=\"relu\",padding=\"same\")(inputImg)\n",
        "x=layers.AveragePooling2D((2,2))(x)\n",
        "x=layers.BatchNormalization()(x)\n",
        "x=layers.Conv2D(32,(3,3),activation=\"relu\",padding=\"same\")(x)\n",
        "x=layers.AveragePooling2D((2,2))(x)\n",
        "x=layers.BatchNormalization()(x)\n",
        "x=layers.Dropout(0.3)(x)\n",
        "x=layers.Conv2D(64,(3,3),activation=\"relu\",padding=\"same\")(x)\n",
        "x=layers.AveragePooling2D((2,2))(x)\n",
        "x=layers.BatchNormalization()(x)\n",
        "x=layers.Dropout(0.3)(x)\n",
        "x=layers.Flatten()(x)\n",
        "x=layers.BatchNormalization()(x)\n",
        "x=layers.Dropout(0.3)(x)\n",
        "out=layers.Dense(num_classes,activation=\"softmax\")(x)\n",
        "\n",
        "model6 = keras.Model(inputImg,out)\n",
        "model6.compile(loss=\"categorical_crossentropy\",optimizer=\"adam\",metrics=[\"accuracy\"])\n",
        "model6.summary()"
      ],
      "execution_count": null,
      "outputs": [
        {
          "output_type": "stream",
          "name": "stdout",
          "text": [
            "Model: \"model_4\"\n",
            "_________________________________________________________________\n",
            " Layer (type)                Output Shape              Param #   \n",
            "=================================================================\n",
            " inputLayer (InputLayer)     [(None, 28, 28, 1)]       0         \n",
            "                                                                 \n",
            " conv2d_15 (Conv2D)          (None, 28, 28, 16)        160       \n",
            "                                                                 \n",
            " average_pooling2d_14 (Avera  (None, 14, 14, 16)       0         \n",
            " gePooling2D)                                                    \n",
            "                                                                 \n",
            " batch_normalization_7 (Batc  (None, 14, 14, 16)       64        \n",
            " hNormalization)                                                 \n",
            "                                                                 \n",
            " conv2d_16 (Conv2D)          (None, 14, 14, 32)        4640      \n",
            "                                                                 \n",
            " average_pooling2d_15 (Avera  (None, 7, 7, 32)         0         \n",
            " gePooling2D)                                                    \n",
            "                                                                 \n",
            " batch_normalization_8 (Batc  (None, 7, 7, 32)         128       \n",
            " hNormalization)                                                 \n",
            "                                                                 \n",
            " dropout_10 (Dropout)        (None, 7, 7, 32)          0         \n",
            "                                                                 \n",
            " conv2d_17 (Conv2D)          (None, 7, 7, 64)          18496     \n",
            "                                                                 \n",
            " average_pooling2d_16 (Avera  (None, 3, 3, 64)         0         \n",
            " gePooling2D)                                                    \n",
            "                                                                 \n",
            " batch_normalization_9 (Batc  (None, 3, 3, 64)         256       \n",
            " hNormalization)                                                 \n",
            "                                                                 \n",
            " dropout_11 (Dropout)        (None, 3, 3, 64)          0         \n",
            "                                                                 \n",
            " flatten_4 (Flatten)         (None, 576)               0         \n",
            "                                                                 \n",
            " batch_normalization_10 (Bat  (None, 576)              2304      \n",
            " chNormalization)                                                \n",
            "                                                                 \n",
            " dropout_12 (Dropout)        (None, 576)               0         \n",
            "                                                                 \n",
            " dense_4 (Dense)             (None, 10)                5770      \n",
            "                                                                 \n",
            "=================================================================\n",
            "Total params: 31,818\n",
            "Trainable params: 30,442\n",
            "Non-trainable params: 1,376\n",
            "_________________________________________________________________\n"
          ]
        }
      ]
    },
    {
      "cell_type": "code",
      "metadata": {
        "colab": {
          "base_uri": "https://localhost:8080/"
        },
        "id": "ZceaTqtc5DNO",
        "outputId": "c19cd4f2-98ae-4e2e-fd74-5e3e17bac210"
      },
      "source": [
        "checkpoint = keras.callbacks.ModelCheckpoint(\"model-{epoch:03d}-{accuracy}-{val_accuracy}.h5\",save_best_only=True,monitor=\"val_accuracy\")\n",
        "model6.fit(x_train,y_train,epochs=20,batch_size=20,validation_split=0.1,callbacks=[checkpoint])"
      ],
      "execution_count": null,
      "outputs": [
        {
          "output_type": "stream",
          "name": "stdout",
          "text": [
            "Epoch 1/20\n",
            "2700/2700 [==============================] - 19s 7ms/step - loss: 0.0495 - accuracy: 0.9845 - val_loss: 0.0201 - val_accuracy: 0.9945\n",
            "Epoch 2/20\n",
            "2700/2700 [==============================] - 19s 7ms/step - loss: 0.0491 - accuracy: 0.9849 - val_loss: 0.0231 - val_accuracy: 0.9933\n",
            "Epoch 3/20\n",
            "2700/2700 [==============================] - 18s 7ms/step - loss: 0.0459 - accuracy: 0.9856 - val_loss: 0.0208 - val_accuracy: 0.9943\n",
            "Epoch 4/20\n",
            "2700/2700 [==============================] - 18s 7ms/step - loss: 0.0466 - accuracy: 0.9852 - val_loss: 0.0202 - val_accuracy: 0.9942\n",
            "Epoch 5/20\n",
            "2700/2700 [==============================] - 18s 7ms/step - loss: 0.0464 - accuracy: 0.9854 - val_loss: 0.0286 - val_accuracy: 0.9927\n",
            "Epoch 6/20\n",
            "2700/2700 [==============================] - 19s 7ms/step - loss: 0.0439 - accuracy: 0.9858 - val_loss: 0.0220 - val_accuracy: 0.9935\n",
            "Epoch 7/20\n",
            "2700/2700 [==============================] - 19s 7ms/step - loss: 0.0421 - accuracy: 0.9870 - val_loss: 0.0221 - val_accuracy: 0.9940\n",
            "Epoch 8/20\n",
            "2700/2700 [==============================] - 19s 7ms/step - loss: 0.0427 - accuracy: 0.9870 - val_loss: 0.0257 - val_accuracy: 0.9933\n",
            "Epoch 9/20\n",
            "2700/2700 [==============================] - 19s 7ms/step - loss: 0.0452 - accuracy: 0.9860 - val_loss: 0.0196 - val_accuracy: 0.9943\n",
            "Epoch 10/20\n",
            "2700/2700 [==============================] - 19s 7ms/step - loss: 0.0419 - accuracy: 0.9871 - val_loss: 0.0211 - val_accuracy: 0.9945\n",
            "Epoch 11/20\n",
            "2700/2700 [==============================] - 19s 7ms/step - loss: 0.0403 - accuracy: 0.9869 - val_loss: 0.0228 - val_accuracy: 0.9940\n",
            "Epoch 12/20\n",
            "2700/2700 [==============================] - 19s 7ms/step - loss: 0.0401 - accuracy: 0.9867 - val_loss: 0.0210 - val_accuracy: 0.9948\n",
            "Epoch 13/20\n",
            "2700/2700 [==============================] - 19s 7ms/step - loss: 0.0417 - accuracy: 0.9869 - val_loss: 0.0242 - val_accuracy: 0.9938\n",
            "Epoch 14/20\n",
            "2700/2700 [==============================] - 19s 7ms/step - loss: 0.0419 - accuracy: 0.9866 - val_loss: 0.0205 - val_accuracy: 0.9958\n",
            "Epoch 15/20\n",
            "2700/2700 [==============================] - 18s 7ms/step - loss: 0.0415 - accuracy: 0.9870 - val_loss: 0.0201 - val_accuracy: 0.9943\n",
            "Epoch 16/20\n",
            "2700/2700 [==============================] - 20s 7ms/step - loss: 0.0402 - accuracy: 0.9872 - val_loss: 0.0239 - val_accuracy: 0.9930\n",
            "Epoch 17/20\n",
            "2700/2700 [==============================] - 19s 7ms/step - loss: 0.0414 - accuracy: 0.9869 - val_loss: 0.0201 - val_accuracy: 0.9943\n",
            "Epoch 18/20\n",
            "2700/2700 [==============================] - 18s 7ms/step - loss: 0.0373 - accuracy: 0.9874 - val_loss: 0.0196 - val_accuracy: 0.9947\n",
            "Epoch 19/20\n",
            "2700/2700 [==============================] - 19s 7ms/step - loss: 0.0390 - accuracy: 0.9876 - val_loss: 0.0198 - val_accuracy: 0.9942\n",
            "Epoch 20/20\n",
            "2700/2700 [==============================] - 19s 7ms/step - loss: 0.0390 - accuracy: 0.9879 - val_loss: 0.0187 - val_accuracy: 0.9955\n"
          ]
        },
        {
          "output_type": "execute_result",
          "data": {
            "text/plain": [
              "<keras.callbacks.History at 0x7f6419f7d810>"
            ]
          },
          "metadata": {},
          "execution_count": 21
        }
      ]
    },
    {
      "cell_type": "code",
      "metadata": {
        "colab": {
          "base_uri": "https://localhost:8080/"
        },
        "id": "1zChafI98NwS",
        "outputId": "7f1d2ba0-0d02-494e-d863-409a30465103"
      },
      "source": [
        "model7 = keras.models.load_model(\"model-014-0.9866296052932739-0.9958333373069763.h5\")\n",
        "model7.evaluate(x_test,y_test)"
      ],
      "execution_count": null,
      "outputs": [
        {
          "output_type": "stream",
          "name": "stdout",
          "text": [
            "313/313 [==============================] - 2s 5ms/step - loss: 0.0182 - accuracy: 0.9945\n"
          ]
        },
        {
          "output_type": "execute_result",
          "data": {
            "text/plain": [
              "[0.01823854260146618, 0.9944999814033508]"
            ]
          },
          "metadata": {},
          "execution_count": 22
        }
      ]
    }
  ]
}