{
  "nbformat": 4,
  "nbformat_minor": 0,
  "metadata": {
    "colab": {
      "name": "DL07.ipynb",
      "provenance": [],
      "collapsed_sections": []
    },
    "kernelspec": {
      "name": "python3",
      "display_name": "Python 3"
    },
    "language_info": {
      "name": "python"
    },
    "accelerator": "GPU"
  },
  "cells": [
    {
      "cell_type": "code",
      "metadata": {
        "id": "fAtaJ8f-OEwy"
      },
      "source": [
        "import cv2\n",
        "import numpy as np\n",
        "from tensorflow import keras\n",
        "from keras import layers\n",
        "from matplotlib import pyplot as plt\n",
        "%matplotlib inline"
      ],
      "execution_count": null,
      "outputs": []
    },
    {
      "cell_type": "code",
      "metadata": {
        "colab": {
          "base_uri": "https://localhost:8080/"
        },
        "id": "vx4iDKprOMJK",
        "outputId": "261d4a31-0bac-4e8a-8125-0434a9eb275c"
      },
      "source": [
        "(x_train,y_train),(x_test,y_test)=keras.datasets.mnist.load_data()"
      ],
      "execution_count": null,
      "outputs": [
        {
          "output_type": "stream",
          "name": "stdout",
          "text": [
            "Downloading data from https://storage.googleapis.com/tensorflow/tf-keras-datasets/mnist.npz\n",
            "11493376/11490434 [==============================] - 0s 0us/step\n",
            "11501568/11490434 [==============================] - 0s 0us/step\n"
          ]
        }
      ]
    },
    {
      "cell_type": "code",
      "metadata": {
        "id": "caAMX8_BOgzr"
      },
      "source": [
        "x_train  = x_train/255\n",
        "x_test = x_test/255\n",
        "x_train = np.expand_dims(x_train,-1)\n",
        "x_test = np.expand_dims(x_test,-1)\n",
        "num_classes = 10\n",
        "y_train = keras.utils.to_categorical(y_train,num_classes)\n",
        "y_test = keras.utils.to_categorical(y_test,num_classes)"
      ],
      "execution_count": null,
      "outputs": []
    },
    {
      "cell_type": "code",
      "metadata": {
        "colab": {
          "base_uri": "https://localhost:8080/"
        },
        "id": "CRqjwircOcTk",
        "outputId": "0966b605-7c3e-42d1-d9b4-a26528793f3a"
      },
      "source": [
        "inputImg = layers.Input(shape=(None,None,1),name=\"inputLayer\",dtype=\"float\")\n",
        "x=layers.Conv2D(16,(3,3),activation=\"relu\",padding=\"same\")(inputImg)\n",
        "x=layers.AveragePooling2D((2,2))(x)\n",
        "x=layers.BatchNormalization()(x)\n",
        "\n",
        "x=layers.Conv2D(32,(3,3),activation=\"relu\",padding=\"same\")(x)\n",
        "x=layers.AveragePooling2D((2,2))(x)\n",
        "x=layers.BatchNormalization()(x)\n",
        "\n",
        "x=layers.Conv2D(64,(3,3),activation=\"relu\",padding=\"same\")(x)\n",
        "x=layers.AveragePooling2D((2,2))(x)\n",
        "x=layers.BatchNormalization()(x)\n",
        "\n",
        "x=layers.Conv2D(num_classes,(1,1),activation=\"relu\",padding=\"same\")(x)\n",
        "x=layers.GlobalAveragePooling2D()(x)\n",
        "#out=layers.Dense(num_classes,activation=\"softmax\")(x)\n",
        "out=layers.Activation(\"softmax\")(x)\n",
        "\n",
        "model = keras.Model(inputImg,out)\n",
        "model.compile(loss=\"categorical_crossentropy\",optimizer=\"adam\",metrics=[\"accuracy\"])\n",
        "model.summary()"
      ],
      "execution_count": null,
      "outputs": [
        {
          "output_type": "stream",
          "name": "stdout",
          "text": [
            "Model: \"model\"\n",
            "_________________________________________________________________\n",
            " Layer (type)                Output Shape              Param #   \n",
            "=================================================================\n",
            " inputLayer (InputLayer)     [(None, None, None, 1)]   0         \n",
            "                                                                 \n",
            " conv2d (Conv2D)             (None, None, None, 16)    160       \n",
            "                                                                 \n",
            " average_pooling2d (AverageP  (None, None, None, 16)   0         \n",
            " ooling2D)                                                       \n",
            "                                                                 \n",
            " batch_normalization (BatchN  (None, None, None, 16)   64        \n",
            " ormalization)                                                   \n",
            "                                                                 \n",
            " conv2d_1 (Conv2D)           (None, None, None, 32)    4640      \n",
            "                                                                 \n",
            " average_pooling2d_1 (Averag  (None, None, None, 32)   0         \n",
            " ePooling2D)                                                     \n",
            "                                                                 \n",
            " batch_normalization_1 (Batc  (None, None, None, 32)   128       \n",
            " hNormalization)                                                 \n",
            "                                                                 \n",
            " conv2d_2 (Conv2D)           (None, None, None, 64)    18496     \n",
            "                                                                 \n",
            " average_pooling2d_2 (Averag  (None, None, None, 64)   0         \n",
            " ePooling2D)                                                     \n",
            "                                                                 \n",
            " batch_normalization_2 (Batc  (None, None, None, 64)   256       \n",
            " hNormalization)                                                 \n",
            "                                                                 \n",
            " conv2d_3 (Conv2D)           (None, None, None, 10)    650       \n",
            "                                                                 \n",
            " global_average_pooling2d (G  (None, 10)               0         \n",
            " lobalAveragePooling2D)                                          \n",
            "                                                                 \n",
            " activation (Activation)     (None, 10)                0         \n",
            "                                                                 \n",
            "=================================================================\n",
            "Total params: 24,394\n",
            "Trainable params: 24,170\n",
            "Non-trainable params: 224\n",
            "_________________________________________________________________\n"
          ]
        }
      ]
    },
    {
      "cell_type": "code",
      "metadata": {
        "colab": {
          "base_uri": "https://localhost:8080/"
        },
        "id": "lqVzC8ppUEEh",
        "outputId": "b87e8ced-c3ee-47f0-bcb7-b7afaeac2186"
      },
      "source": [
        "checkpoint = keras.callbacks.ModelCheckpoint(\"model-{epoch:03d}-{accuracy}-{val_accuracy}.h5\",save_best_only=True,monitor=\"val_accuracy\")\n",
        "model.fit(x_train,y_train,epochs=20,batch_size=20,validation_split=0.1,callbacks=[checkpoint])"
      ],
      "execution_count": null,
      "outputs": [
        {
          "output_type": "stream",
          "name": "stdout",
          "text": [
            "Epoch 1/20\n",
            "2700/2700 [==============================] - 28s 7ms/step - loss: 0.1776 - accuracy: 0.9576 - val_loss: 0.0569 - val_accuracy: 0.9828\n",
            "Epoch 2/20\n",
            "2700/2700 [==============================] - 17s 6ms/step - loss: 0.0551 - accuracy: 0.9838 - val_loss: 0.0678 - val_accuracy: 0.9808\n",
            "Epoch 3/20\n",
            "2700/2700 [==============================] - 18s 7ms/step - loss: 0.0422 - accuracy: 0.9876 - val_loss: 0.0434 - val_accuracy: 0.9865\n",
            "Epoch 4/20\n",
            "2700/2700 [==============================] - 18s 7ms/step - loss: 0.0338 - accuracy: 0.9897 - val_loss: 0.0500 - val_accuracy: 0.9845\n",
            "Epoch 5/20\n",
            "2700/2700 [==============================] - 18s 7ms/step - loss: 0.0287 - accuracy: 0.9912 - val_loss: 0.0412 - val_accuracy: 0.9890\n",
            "Epoch 6/20\n",
            "2700/2700 [==============================] - 18s 7ms/step - loss: 0.0251 - accuracy: 0.9919 - val_loss: 0.0299 - val_accuracy: 0.9917\n",
            "Epoch 7/20\n",
            "2700/2700 [==============================] - 18s 7ms/step - loss: 0.0211 - accuracy: 0.9933 - val_loss: 0.0267 - val_accuracy: 0.9910\n",
            "Epoch 8/20\n",
            "2700/2700 [==============================] - 18s 7ms/step - loss: 0.0185 - accuracy: 0.9946 - val_loss: 0.0235 - val_accuracy: 0.9940\n",
            "Epoch 9/20\n",
            "2700/2700 [==============================] - 18s 7ms/step - loss: 0.0170 - accuracy: 0.9944 - val_loss: 0.0307 - val_accuracy: 0.9928\n",
            "Epoch 10/20\n",
            "2700/2700 [==============================] - 18s 7ms/step - loss: 0.0145 - accuracy: 0.9954 - val_loss: 0.0345 - val_accuracy: 0.9908\n",
            "Epoch 11/20\n",
            "2700/2700 [==============================] - 19s 7ms/step - loss: 0.0134 - accuracy: 0.9957 - val_loss: 0.0447 - val_accuracy: 0.9887\n",
            "Epoch 12/20\n",
            "2700/2700 [==============================] - 18s 7ms/step - loss: 0.0119 - accuracy: 0.9961 - val_loss: 0.0295 - val_accuracy: 0.9925\n",
            "Epoch 13/20\n",
            "2700/2700 [==============================] - 18s 7ms/step - loss: 0.0108 - accuracy: 0.9966 - val_loss: 0.0312 - val_accuracy: 0.9925\n",
            "Epoch 14/20\n",
            "2700/2700 [==============================] - 18s 7ms/step - loss: 0.0103 - accuracy: 0.9967 - val_loss: 0.0364 - val_accuracy: 0.9905\n",
            "Epoch 15/20\n",
            "2700/2700 [==============================] - 18s 7ms/step - loss: 0.0089 - accuracy: 0.9971 - val_loss: 0.0344 - val_accuracy: 0.9917\n",
            "Epoch 16/20\n",
            "2700/2700 [==============================] - 18s 7ms/step - loss: 0.0079 - accuracy: 0.9974 - val_loss: 0.0292 - val_accuracy: 0.9923\n",
            "Epoch 17/20\n",
            "2700/2700 [==============================] - 18s 7ms/step - loss: 0.0077 - accuracy: 0.9976 - val_loss: 0.0254 - val_accuracy: 0.9937\n",
            "Epoch 18/20\n",
            "2700/2700 [==============================] - 18s 7ms/step - loss: 0.0076 - accuracy: 0.9976 - val_loss: 0.0349 - val_accuracy: 0.9915\n",
            "Epoch 19/20\n",
            "2700/2700 [==============================] - 18s 7ms/step - loss: 0.0070 - accuracy: 0.9978 - val_loss: 0.0286 - val_accuracy: 0.9927\n",
            "Epoch 20/20\n",
            "2700/2700 [==============================] - 18s 7ms/step - loss: 0.0056 - accuracy: 0.9984 - val_loss: 0.0303 - val_accuracy: 0.9922\n"
          ]
        },
        {
          "output_type": "execute_result",
          "data": {
            "text/plain": [
              "<keras.callbacks.History at 0x7f6ff05a9bd0>"
            ]
          },
          "metadata": {},
          "execution_count": 5
        }
      ]
    },
    {
      "cell_type": "code",
      "metadata": {
        "id": "32xb4lidWOgp"
      },
      "source": [
        "predictionModel = keras.models.load_model(\"model-008-0.9945555329322815-0.9940000176429749.h5\")"
      ],
      "execution_count": null,
      "outputs": []
    },
    {
      "cell_type": "code",
      "metadata": {
        "colab": {
          "base_uri": "https://localhost:8080/"
        },
        "id": "pQD4ya-cVto3",
        "outputId": "7a8b913f-7997-4fd6-d4d7-0cf17550e09c"
      },
      "source": [
        "selection = 35\n",
        "print(\"gt                :\",np.argmax(y_test[:selection],axis=1))\n",
        "pred =  np.argmax(predictionModel.predict(x_test[:selection]),axis=1)\n",
        "upScale32=[]\n",
        "for i in range(selection):\n",
        "  img=cv2.resize(x_test[i],(32,32))\n",
        "  upScale32.append(img)\n",
        "upScale32 = np.array(upScale32)\n",
        "predUpScale32 = np.argmax(predictionModel.predict(upScale32),axis=1)\n",
        "print(\"original size     :\",pred)\n",
        "print(\"scaled to (32,32) :\",predUpScale32)"
      ],
      "execution_count": null,
      "outputs": [
        {
          "output_type": "stream",
          "name": "stdout",
          "text": [
            "gt                : [7 2 1 0 4 1 4 9 5 9 0 6 9 0 1 5 9 7 3 4 9 6 6 5 4 0 7 4 0 1 3 1 3 4 7]\n",
            "original size     : [7 2 1 0 4 1 4 9 5 9 0 6 9 0 1 5 9 7 3 4 9 6 6 5 4 0 7 4 0 1 3 1 3 4 7]\n",
            "scaled to (32,32) : [7 2 1 0 4 1 4 4 5 9 0 6 9 0 1 5 9 7 5 4 9 6 6 5 4 0 7 4 0 1 3 1 3 4 7]\n"
          ]
        }
      ]
    },
    {
      "cell_type": "code",
      "metadata": {
        "colab": {
          "base_uri": "https://localhost:8080/",
          "height": 283
        },
        "id": "AiY36oZBVbD5",
        "outputId": "83608f75-3bac-49a5-9458-cd3085b60fb8"
      },
      "source": [
        "plt.imshow(x_test[18].squeeze(),cmap=\"gray\")"
      ],
      "execution_count": null,
      "outputs": [
        {
          "output_type": "execute_result",
          "data": {
            "text/plain": [
              "<matplotlib.image.AxesImage at 0x7f8df3c384d0>"
            ]
          },
          "metadata": {},
          "execution_count": 21
        },
        {
          "output_type": "display_data",
          "data": {
            "image/png": "[encoded data removed]",
            "text/plain": [
              "<Figure size 432x288 with 1 Axes>"
            ]
          },
          "metadata": {
            "needs_background": "light"
          }
        }
      ]
    },
    {
      "cell_type": "code",
      "metadata": {
        "colab": {
          "base_uri": "https://localhost:8080/"
        },
        "id": "YIUuUUCpXN80",
        "outputId": "01e882c4-515a-4aa3-d2bd-b5bcadcf6b0d"
      },
      "source": [
        "selection = 35\n",
        "print(\"gt                :\",np.argmax(y_test[:selection],axis=1))\n",
        "pred =  np.argmax(predictionModel.predict(x_test[:selection]),axis=1)\n",
        "dnScale24=[]\n",
        "for i in range(selection):\n",
        "  img=cv2.resize(x_test[i],(24,24))\n",
        "  dnScale24.append(img)\n",
        "dnScale24 = np.array(dnScale24)\n",
        "predDnScale24 = np.argmax(predictionModel.predict(dnScale24),axis=1)\n",
        "print(\"original size     :\",pred)\n",
        "print(\"scaled to (32,32) :\",predDnScale24)"
      ],
      "execution_count": null,
      "outputs": [
        {
          "output_type": "stream",
          "name": "stdout",
          "text": [
            "gt                : [7 2 1 0 4 1 4 9 5 9 0 6 9 0 1 5 9 7 3 4 9 6 6 5 4 0 7 4 0 1 3 1 3 4 7]\n",
            "original size     : [7 2 1 0 4 1 4 9 5 9 0 6 9 0 1 5 9 7 3 4 9 6 6 5 4 0 7 4 0 1 3 1 3 4 7]\n",
            "scaled to (32,32) : [7 2 1 0 4 1 4 9 5 9 0 6 9 0 1 5 9 7 8 4 9 6 6 5 4 0 7 4 0 1 3 1 3 4 7]\n"
          ]
        }
      ]
    },
    {
      "cell_type": "code",
      "metadata": {
        "id": "IhOH85HOWNOK"
      },
      "source": [
        "plt.imshow(x_test[18].squeeze(),cmap=\"gray\")"
      ],
      "execution_count": null,
      "outputs": []
    },
    {
      "cell_type": "code",
      "metadata": {
        "colab": {
          "base_uri": "https://localhost:8080/"
        },
        "id": "mrieVkPrXBvJ",
        "outputId": "bfea9bf7-77ef-40a0-987e-853e0dba6305"
      },
      "source": [
        "selection = 35\n",
        "print(\"gt                :\",np.argmax(y_test[:selection],axis=1))\n",
        "pred =  np.argmax(predictionModel.predict(x_test[:selection]),axis=1)\n",
        "upScale48=[]\n",
        "for i in range(selection):\n",
        "  img=cv2.resize(x_test[i],(48,48))\n",
        "  upScale48.append(img)\n",
        "upScale48 = np.array(upScale48)\n",
        "predUpScale48 = np.argmax(predictionModel.predict(upScale48),axis=1)\n",
        "print(\"original size     :\",pred)\n",
        "print(\"scaled to (32,32) :\",predUpScale48)"
      ],
      "execution_count": null,
      "outputs": [
        {
          "output_type": "stream",
          "name": "stdout",
          "text": [
            "gt                : [7 2 1 0 4 1 4 9 5 9 0 6 9 0 1 5 9 7 3 4 9 6 6 5 4 0 7 4 0 1 3 1 3 4 7]\n",
            "original size     : [7 2 1 0 4 1 4 9 5 9 0 6 9 0 1 5 9 7 3 4 9 6 6 5 4 0 7 4 0 1 3 1 3 4 7]\n",
            "scaled to (32,32) : [1 7 1 4 1 1 4 1 7 1 1 1 1 1 1 0 1 1 7 1 1 1 4 7 1 4 1 1 4 1 1 1 2 1 1]\n"
          ]
        }
      ]
    }
  ]
}