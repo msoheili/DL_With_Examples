{
  "nbformat": 4,
  "nbformat_minor": 0,
  "metadata": {
    "colab": {
      "name": "DL03.ipynb",
      "provenance": [],
      "collapsed_sections": []
    },
    "kernelspec": {
      "name": "python3",
      "display_name": "Python 3"
    },
    "language_info": {
      "name": "python"
    }
  },
  "cells": [
    {
      "cell_type": "code",
      "metadata": {
        "id": "YZ3Hc5KB5ARs"
      },
      "source": [
        "import cv2\n",
        "import numpy as np\n",
        "from tensorflow import keras\n",
        "from matplotlib import pyplot as plt\n",
        "%matplotlib inline"
      ],
      "execution_count": null,
      "outputs": []
    },
    {
      "cell_type": "code",
      "metadata": {
        "colab": {
          "base_uri": "https://localhost:8080/"
        },
        "id": "ESj09eVJ5LF7",
        "outputId": "13f38396-3116-4991-c7ba-f131dfb031ad"
      },
      "source": [
        "(x_train,y_train),(x_test,y_test)=keras.datasets.mnist.load_data()"
      ],
      "execution_count": null,
      "outputs": [
        {
          "output_type": "stream",
          "name": "stdout",
          "text": [
            "Downloading data from https://storage.googleapis.com/tensorflow/tf-keras-datasets/mnist.npz\n",
            "11493376/11490434 [==============================] - 0s 0us/step\n",
            "11501568/11490434 [==============================] - 0s 0us/step\n"
          ]
        }
      ]
    },
    {
      "cell_type": "code",
      "metadata": {
        "colab": {
          "base_uri": "https://localhost:8080/"
        },
        "id": "26G4AIo055b1",
        "outputId": "66351fd6-614d-41b2-a11f-c98e6e4b5ab0"
      },
      "source": [
        "x_train.shape"
      ],
      "execution_count": null,
      "outputs": [
        {
          "output_type": "execute_result",
          "data": {
            "text/plain": [
              "(60000, 28, 28)"
            ]
          },
          "metadata": {},
          "execution_count": 3
        }
      ]
    },
    {
      "cell_type": "code",
      "metadata": {
        "colab": {
          "base_uri": "https://localhost:8080/",
          "height": 92
        },
        "id": "FtIiiJ7h6RF2",
        "outputId": "fe62edc4-611f-4475-974e-5553a236444c"
      },
      "source": [
        "fig,axs = plt.subplots(1,10)\n",
        "for i in range(10):\n",
        "  axs[i].imshow(x_train[i],cmap=\"gray\")\n",
        "  axs[i].set_title(y_train[i])"
      ],
      "execution_count": null,
      "outputs": [
        {
          "output_type": "display_data",
          "data": {
            "image/png": "[encoded data removed]",
            "text/plain": [
              "<Figure size 432x288 with 10 Axes>"
            ]
          },
          "metadata": {
            "needs_background": "light"
          }
        }
      ]
    },
    {
      "cell_type": "code",
      "metadata": {
        "id": "ZUVkLEqe6sXs"
      },
      "source": [
        "x_train  = x_train/255\n",
        "x_test = x_test/255"
      ],
      "execution_count": null,
      "outputs": []
    },
    {
      "cell_type": "code",
      "metadata": {
        "id": "Ai89_Tq57xaM"
      },
      "source": [
        "num_classes = 10\n",
        "y_train = keras.utils.to_categorical(y_train,num_classes)\n",
        "y_test = keras.utils.to_categorical(y_test,num_classes)"
      ],
      "execution_count": null,
      "outputs": []
    },
    {
      "cell_type": "code",
      "metadata": {
        "colab": {
          "base_uri": "https://localhost:8080/"
        },
        "id": "7Z1hh_og8qnn",
        "outputId": "65bbf01a-6de1-4917-dc32-4478a852703f"
      },
      "source": [
        "y_train[0]"
      ],
      "execution_count": null,
      "outputs": [
        {
          "output_type": "execute_result",
          "data": {
            "text/plain": [
              "array([0., 0., 0., 0., 0., 1., 0., 0., 0., 0.], dtype=float32)"
            ]
          },
          "metadata": {},
          "execution_count": 18
        }
      ]
    },
    {
      "cell_type": "code",
      "metadata": {
        "colab": {
          "base_uri": "https://localhost:8080/"
        },
        "id": "c_evTpVn8zTg",
        "outputId": "cf3b21bc-b611-4b71-9ff0-b501dbbd9693"
      },
      "source": [
        "model = keras.models.Sequential([\n",
        "            keras.layers.Flatten(input_shape = (28,28)),\n",
        "            keras.layers.Dense(128,activation=\"relu\"),\n",
        "            keras.layers.Dense(num_classes,activation=\"softmax\")\n",
        "        ])\n",
        "model.compile(loss=\"categorical_crossentropy\",optimizer=\"adam\",metrics=[\"accuracy\"])\n",
        "model.summary()"
      ],
      "execution_count": null,
      "outputs": [
        {
          "output_type": "stream",
          "name": "stdout",
          "text": [
            "Model: \"sequential_3\"\n",
            "_________________________________________________________________\n",
            " Layer (type)                Output Shape              Param #   \n",
            "=================================================================\n",
            " flatten_3 (Flatten)         (None, 784)               0         \n",
            "                                                                 \n",
            " dense_6 (Dense)             (None, 128)               100480    \n",
            "                                                                 \n",
            " dense_7 (Dense)             (None, 10)                1290      \n",
            "                                                                 \n",
            "=================================================================\n",
            "Total params: 101,770\n",
            "Trainable params: 101,770\n",
            "Non-trainable params: 0\n",
            "_________________________________________________________________\n"
          ]
        }
      ]
    },
    {
      "cell_type": "code",
      "metadata": {
        "colab": {
          "base_uri": "https://localhost:8080/"
        },
        "id": "IV1ChiGn-FX-",
        "outputId": "80ce0bb8-8d67-4ec1-c558-6344d080214f"
      },
      "source": [
        "model.fit(x_train,y_train,epochs=20)"
      ],
      "execution_count": null,
      "outputs": [
        {
          "output_type": "stream",
          "name": "stdout",
          "text": [
            "Epoch 1/20\n",
            "1875/1875 [==============================] - 5s 2ms/step - loss: 0.2576 - accuracy: 0.9270\n",
            "Epoch 2/20\n",
            "1875/1875 [==============================] - 4s 2ms/step - loss: 0.1134 - accuracy: 0.9664\n",
            "Epoch 3/20\n",
            "1875/1875 [==============================] - 4s 2ms/step - loss: 0.0779 - accuracy: 0.9758\n",
            "Epoch 4/20\n",
            "1875/1875 [==============================] - 4s 2ms/step - loss: 0.0578 - accuracy: 0.9827\n",
            "Epoch 5/20\n",
            "1875/1875 [==============================] - 4s 2ms/step - loss: 0.0450 - accuracy: 0.9858\n",
            "Epoch 6/20\n",
            "1875/1875 [==============================] - 4s 2ms/step - loss: 0.0346 - accuracy: 0.9896\n",
            "Epoch 7/20\n",
            "1875/1875 [==============================] - 4s 2ms/step - loss: 0.0285 - accuracy: 0.9912\n",
            "Epoch 8/20\n",
            "1875/1875 [==============================] - 4s 2ms/step - loss: 0.0225 - accuracy: 0.9927\n",
            "Epoch 9/20\n",
            "1875/1875 [==============================] - 4s 2ms/step - loss: 0.0199 - accuracy: 0.9938\n",
            "Epoch 10/20\n",
            "1875/1875 [==============================] - 4s 2ms/step - loss: 0.0168 - accuracy: 0.9945\n",
            "Epoch 11/20\n",
            "1875/1875 [==============================] - 4s 2ms/step - loss: 0.0120 - accuracy: 0.9966\n",
            "Epoch 12/20\n",
            "1875/1875 [==============================] - 4s 2ms/step - loss: 0.0115 - accuracy: 0.9962\n",
            "Epoch 13/20\n",
            "1875/1875 [==============================] - 4s 2ms/step - loss: 0.0116 - accuracy: 0.9966\n",
            "Epoch 14/20\n",
            "1875/1875 [==============================] - 4s 2ms/step - loss: 0.0093 - accuracy: 0.9971\n",
            "Epoch 15/20\n",
            "1875/1875 [==============================] - 4s 2ms/step - loss: 0.0075 - accuracy: 0.9978\n",
            "Epoch 16/20\n",
            "1875/1875 [==============================] - 4s 2ms/step - loss: 0.0080 - accuracy: 0.9977\n",
            "Epoch 17/20\n",
            "1875/1875 [==============================] - 4s 2ms/step - loss: 0.0067 - accuracy: 0.9978\n",
            "Epoch 18/20\n",
            "1875/1875 [==============================] - 4s 2ms/step - loss: 0.0068 - accuracy: 0.9980\n",
            "Epoch 19/20\n",
            "1875/1875 [==============================] - 4s 2ms/step - loss: 0.0047 - accuracy: 0.9986\n",
            "Epoch 20/20\n",
            "1875/1875 [==============================] - 4s 2ms/step - loss: 0.0059 - accuracy: 0.9982\n"
          ]
        },
        {
          "output_type": "execute_result",
          "data": {
            "text/plain": [
              "<keras.callbacks.History at 0x7f168afc2ed0>"
            ]
          },
          "metadata": {},
          "execution_count": 20
        }
      ]
    },
    {
      "cell_type": "code",
      "metadata": {
        "colab": {
          "base_uri": "https://localhost:8080/"
        },
        "id": "j3F5KeOL_gFQ",
        "outputId": "38d6a26a-c785-4664-bf6f-08b926e381b6"
      },
      "source": [
        "model.fit(x_train,y_train,epochs=20,validation_split=0.1)"
      ],
      "execution_count": null,
      "outputs": [
        {
          "output_type": "stream",
          "name": "stdout",
          "text": [
            "Epoch 1/20\n",
            "1688/1688 [==============================] - 5s 2ms/step - loss: 0.2739 - accuracy: 0.9216 - val_loss: 0.1436 - val_accuracy: 0.9595\n",
            "Epoch 2/20\n",
            "1688/1688 [==============================] - 4s 2ms/step - loss: 0.1223 - accuracy: 0.9640 - val_loss: 0.0990 - val_accuracy: 0.9720\n",
            "Epoch 3/20\n",
            "1688/1688 [==============================] - 4s 2ms/step - loss: 0.0835 - accuracy: 0.9748 - val_loss: 0.0817 - val_accuracy: 0.9742\n",
            "Epoch 4/20\n",
            "1688/1688 [==============================] - 4s 2ms/step - loss: 0.0628 - accuracy: 0.9805 - val_loss: 0.0863 - val_accuracy: 0.9752\n",
            "Epoch 5/20\n",
            "1688/1688 [==============================] - 4s 2ms/step - loss: 0.0477 - accuracy: 0.9852 - val_loss: 0.0759 - val_accuracy: 0.9788\n",
            "Epoch 6/20\n",
            "1688/1688 [==============================] - 4s 2ms/step - loss: 0.0387 - accuracy: 0.9879 - val_loss: 0.0826 - val_accuracy: 0.9788\n",
            "Epoch 7/20\n",
            "1688/1688 [==============================] - 4s 2ms/step - loss: 0.0289 - accuracy: 0.9916 - val_loss: 0.0797 - val_accuracy: 0.9773\n",
            "Epoch 8/20\n",
            "1688/1688 [==============================] - 4s 2ms/step - loss: 0.0240 - accuracy: 0.9926 - val_loss: 0.0773 - val_accuracy: 0.9812\n",
            "Epoch 9/20\n",
            "1688/1688 [==============================] - 4s 2ms/step - loss: 0.0197 - accuracy: 0.9942 - val_loss: 0.0792 - val_accuracy: 0.9798\n",
            "Epoch 10/20\n",
            "1688/1688 [==============================] - 4s 2ms/step - loss: 0.0146 - accuracy: 0.9960 - val_loss: 0.0792 - val_accuracy: 0.9810\n",
            "Epoch 11/20\n",
            "1688/1688 [==============================] - 4s 2ms/step - loss: 0.0124 - accuracy: 0.9962 - val_loss: 0.0775 - val_accuracy: 0.9828\n",
            "Epoch 12/20\n",
            "1688/1688 [==============================] - 4s 2ms/step - loss: 0.0112 - accuracy: 0.9966 - val_loss: 0.0934 - val_accuracy: 0.9795\n",
            "Epoch 13/20\n",
            "1688/1688 [==============================] - 4s 2ms/step - loss: 0.0091 - accuracy: 0.9974 - val_loss: 0.0948 - val_accuracy: 0.9783\n",
            "Epoch 14/20\n",
            "1688/1688 [==============================] - 4s 2ms/step - loss: 0.0088 - accuracy: 0.9971 - val_loss: 0.0861 - val_accuracy: 0.9800\n",
            "Epoch 15/20\n",
            "1688/1688 [==============================] - 4s 2ms/step - loss: 0.0076 - accuracy: 0.9979 - val_loss: 0.0930 - val_accuracy: 0.9808\n",
            "Epoch 16/20\n",
            "1688/1688 [==============================] - 4s 2ms/step - loss: 0.0077 - accuracy: 0.9976 - val_loss: 0.0975 - val_accuracy: 0.9793\n",
            "Epoch 17/20\n",
            "1688/1688 [==============================] - 4s 2ms/step - loss: 0.0064 - accuracy: 0.9981 - val_loss: 0.0956 - val_accuracy: 0.9798\n",
            "Epoch 18/20\n",
            "1688/1688 [==============================] - 4s 2ms/step - loss: 0.0059 - accuracy: 0.9981 - val_loss: 0.1007 - val_accuracy: 0.9803\n",
            "Epoch 19/20\n",
            "1688/1688 [==============================] - 4s 2ms/step - loss: 0.0054 - accuracy: 0.9984 - val_loss: 0.1172 - val_accuracy: 0.9785\n",
            "Epoch 20/20\n",
            "1688/1688 [==============================] - 4s 2ms/step - loss: 0.0060 - accuracy: 0.9981 - val_loss: 0.1072 - val_accuracy: 0.9795\n"
          ]
        },
        {
          "output_type": "execute_result",
          "data": {
            "text/plain": [
              "<keras.callbacks.History at 0x7f4fde29edd0>"
            ]
          },
          "metadata": {},
          "execution_count": 8
        }
      ]
    },
    {
      "cell_type": "code",
      "metadata": {
        "colab": {
          "base_uri": "https://localhost:8080/"
        },
        "id": "Bpvu2YI6AW0M",
        "outputId": "ba3beec0-db5e-4e02-ae6b-232ea7e22960"
      },
      "source": [
        "model.fit(x_train,y_train,epochs=20,batch_size=20,validation_split=0.1)"
      ],
      "execution_count": null,
      "outputs": [
        {
          "output_type": "stream",
          "name": "stdout",
          "text": [
            "Epoch 1/20\n",
            "2700/2700 [==============================] - 8s 3ms/step - loss: 0.0100 - accuracy: 0.9964 - val_loss: 0.1125 - val_accuracy: 0.9793\n",
            "Epoch 2/20\n",
            "2700/2700 [==============================] - 8s 3ms/step - loss: 0.0083 - accuracy: 0.9972 - val_loss: 0.1185 - val_accuracy: 0.9793\n",
            "Epoch 3/20\n",
            "2700/2700 [==============================] - 8s 3ms/step - loss: 0.0078 - accuracy: 0.9973 - val_loss: 0.1108 - val_accuracy: 0.9808\n",
            "Epoch 4/20\n",
            "2700/2700 [==============================] - 7s 3ms/step - loss: 0.0071 - accuracy: 0.9978 - val_loss: 0.1114 - val_accuracy: 0.9797\n",
            "Epoch 5/20\n",
            "2700/2700 [==============================] - 7s 3ms/step - loss: 0.0064 - accuracy: 0.9979 - val_loss: 0.1062 - val_accuracy: 0.9802\n",
            "Epoch 6/20\n",
            "2700/2700 [==============================] - 7s 3ms/step - loss: 0.0077 - accuracy: 0.9972 - val_loss: 0.1170 - val_accuracy: 0.9787\n",
            "Epoch 7/20\n",
            "2700/2700 [==============================] - 7s 3ms/step - loss: 0.0058 - accuracy: 0.9980 - val_loss: 0.1324 - val_accuracy: 0.9795\n",
            "Epoch 8/20\n",
            "2700/2700 [==============================] - 7s 3ms/step - loss: 0.0048 - accuracy: 0.9983 - val_loss: 0.1415 - val_accuracy: 0.9772\n",
            "Epoch 9/20\n",
            "2700/2700 [==============================] - 7s 3ms/step - loss: 0.0060 - accuracy: 0.9982 - val_loss: 0.1250 - val_accuracy: 0.9803\n",
            "Epoch 10/20\n",
            "2700/2700 [==============================] - 7s 3ms/step - loss: 0.0058 - accuracy: 0.9982 - val_loss: 0.1083 - val_accuracy: 0.9823\n",
            "Epoch 11/20\n",
            "2700/2700 [==============================] - 7s 3ms/step - loss: 0.0055 - accuracy: 0.9981 - val_loss: 0.1350 - val_accuracy: 0.9782\n",
            "Epoch 12/20\n",
            "2700/2700 [==============================] - 7s 3ms/step - loss: 0.0064 - accuracy: 0.9978 - val_loss: 0.1321 - val_accuracy: 0.9793\n",
            "Epoch 13/20\n",
            "2700/2700 [==============================] - 7s 3ms/step - loss: 0.0060 - accuracy: 0.9983 - val_loss: 0.1351 - val_accuracy: 0.9802\n",
            "Epoch 14/20\n",
            "2700/2700 [==============================] - 7s 3ms/step - loss: 0.0052 - accuracy: 0.9984 - val_loss: 0.1347 - val_accuracy: 0.9797\n",
            "Epoch 15/20\n",
            "2700/2700 [==============================] - 7s 3ms/step - loss: 0.0050 - accuracy: 0.9984 - val_loss: 0.1367 - val_accuracy: 0.9822\n",
            "Epoch 16/20\n",
            "2700/2700 [==============================] - 7s 3ms/step - loss: 0.0057 - accuracy: 0.9983 - val_loss: 0.1400 - val_accuracy: 0.9817\n",
            "Epoch 17/20\n",
            "2700/2700 [==============================] - 7s 3ms/step - loss: 0.0042 - accuracy: 0.9988 - val_loss: 0.1455 - val_accuracy: 0.9795\n",
            "Epoch 18/20\n",
            "2700/2700 [==============================] - 7s 3ms/step - loss: 0.0043 - accuracy: 0.9985 - val_loss: 0.1440 - val_accuracy: 0.9792\n",
            "Epoch 19/20\n",
            "2700/2700 [==============================] - 7s 3ms/step - loss: 0.0057 - accuracy: 0.9982 - val_loss: 0.1647 - val_accuracy: 0.9788\n",
            "Epoch 20/20\n",
            "2700/2700 [==============================] - 8s 3ms/step - loss: 0.0036 - accuracy: 0.9989 - val_loss: 0.1336 - val_accuracy: 0.9813\n"
          ]
        },
        {
          "output_type": "execute_result",
          "data": {
            "text/plain": [
              "<keras.callbacks.History at 0x7f4fde27e290>"
            ]
          },
          "metadata": {},
          "execution_count": 9
        }
      ]
    },
    {
      "cell_type": "code",
      "metadata": {
        "colab": {
          "base_uri": "https://localhost:8080/"
        },
        "id": "jiJWD0EnBmy5",
        "outputId": "90d52de7-50bd-40b4-adb7-25fa683836c2"
      },
      "source": [
        "checkpoint = keras.callbacks.ModelCheckpoint(\"model-{epoch:03d}-{accuracy}-{val_accuracy}.h5\",save_best_only=True)\n",
        "model.fit(x_train,y_train,epochs=20,batch_size=20,validation_split=0.1,callbacks=[checkpoint])"
      ],
      "execution_count": null,
      "outputs": [
        {
          "output_type": "stream",
          "name": "stdout",
          "text": [
            "Epoch 1/20\n",
            "2700/2700 [==============================] - 6s 2ms/step - loss: 0.0741 - accuracy: 0.9778 - val_loss: 0.0828 - val_accuracy: 0.9758\n",
            "Epoch 2/20\n",
            "2700/2700 [==============================] - 6s 2ms/step - loss: 0.0549 - accuracy: 0.9831 - val_loss: 0.0847 - val_accuracy: 0.9763\n",
            "Epoch 3/20\n",
            "2700/2700 [==============================] - 6s 2ms/step - loss: 0.0422 - accuracy: 0.9868 - val_loss: 0.0814 - val_accuracy: 0.9775\n",
            "Epoch 4/20\n",
            "2700/2700 [==============================] - 6s 2ms/step - loss: 0.0329 - accuracy: 0.9894 - val_loss: 0.0860 - val_accuracy: 0.9788\n",
            "Epoch 5/20\n",
            "2700/2700 [==============================] - 6s 2ms/step - loss: 0.0264 - accuracy: 0.9914 - val_loss: 0.0817 - val_accuracy: 0.9778\n",
            "Epoch 6/20\n",
            "2700/2700 [==============================] - 6s 2ms/step - loss: 0.0223 - accuracy: 0.9932 - val_loss: 0.0841 - val_accuracy: 0.9795\n",
            "Epoch 7/20\n",
            "2700/2700 [==============================] - 6s 2ms/step - loss: 0.0184 - accuracy: 0.9939 - val_loss: 0.0855 - val_accuracy: 0.9812\n",
            "Epoch 8/20\n",
            "2700/2700 [==============================] - 6s 2ms/step - loss: 0.0148 - accuracy: 0.9950 - val_loss: 0.0898 - val_accuracy: 0.9808\n",
            "Epoch 9/20\n",
            "2700/2700 [==============================] - 6s 2ms/step - loss: 0.0130 - accuracy: 0.9957 - val_loss: 0.0939 - val_accuracy: 0.9772\n",
            "Epoch 10/20\n",
            "2700/2700 [==============================] - 6s 2ms/step - loss: 0.0126 - accuracy: 0.9957 - val_loss: 0.0966 - val_accuracy: 0.9793\n",
            "Epoch 11/20\n",
            "2700/2700 [==============================] - 6s 2ms/step - loss: 0.0102 - accuracy: 0.9966 - val_loss: 0.1036 - val_accuracy: 0.9790\n",
            "Epoch 12/20\n",
            "2700/2700 [==============================] - 6s 2ms/step - loss: 0.0087 - accuracy: 0.9968 - val_loss: 0.1013 - val_accuracy: 0.9795\n",
            "Epoch 13/20\n",
            "2700/2700 [==============================] - 6s 2ms/step - loss: 0.0081 - accuracy: 0.9973 - val_loss: 0.0969 - val_accuracy: 0.9807\n",
            "Epoch 14/20\n",
            "2700/2700 [==============================] - 6s 2ms/step - loss: 0.0082 - accuracy: 0.9974 - val_loss: 0.1090 - val_accuracy: 0.9797\n",
            "Epoch 15/20\n",
            "2700/2700 [==============================] - 6s 2ms/step - loss: 0.0079 - accuracy: 0.9974 - val_loss: 0.1125 - val_accuracy: 0.9792\n",
            "Epoch 16/20\n",
            "2700/2700 [==============================] - 6s 2ms/step - loss: 0.0067 - accuracy: 0.9977 - val_loss: 0.0939 - val_accuracy: 0.9822\n",
            "Epoch 17/20\n",
            "2700/2700 [==============================] - 6s 2ms/step - loss: 0.0069 - accuracy: 0.9976 - val_loss: 0.1035 - val_accuracy: 0.9815\n",
            "Epoch 18/20\n",
            "2700/2700 [==============================] - 6s 2ms/step - loss: 0.0058 - accuracy: 0.9978 - val_loss: 0.1068 - val_accuracy: 0.9820\n",
            "Epoch 19/20\n",
            "2700/2700 [==============================] - 6s 2ms/step - loss: 0.0054 - accuracy: 0.9983 - val_loss: 0.1079 - val_accuracy: 0.9837\n",
            "Epoch 20/20\n",
            "2700/2700 [==============================] - 6s 2ms/step - loss: 0.0067 - accuracy: 0.9980 - val_loss: 0.1104 - val_accuracy: 0.9828\n"
          ]
        },
        {
          "output_type": "execute_result",
          "data": {
            "text/plain": [
              "<keras.callbacks.History at 0x7f4fdbd12910>"
            ]
          },
          "metadata": {},
          "execution_count": 13
        }
      ]
    },
    {
      "cell_type": "code",
      "metadata": {
        "colab": {
          "base_uri": "https://localhost:8080/"
        },
        "id": "lQ-1xzvsD-Vs",
        "outputId": "9b992e35-034a-4f06-bc72-c9f91b6e9c96"
      },
      "source": [
        "model.evaluate(x_test,y_test)"
      ],
      "execution_count": null,
      "outputs": [
        {
          "output_type": "stream",
          "name": "stdout",
          "text": [
            "313/313 [==============================] - 1s 2ms/step - loss: 0.1337 - accuracy: 0.9782\n"
          ]
        },
        {
          "output_type": "execute_result",
          "data": {
            "text/plain": [
              "[0.1337398886680603, 0.9782000184059143]"
            ]
          },
          "metadata": {},
          "execution_count": 14
        }
      ]
    },
    {
      "cell_type": "code",
      "metadata": {
        "id": "Rh3X-xyPEMzE"
      },
      "source": [
        "model03 = keras.models.load_model(\"model-003-0.9868333339691162-0.9775000214576721.h5\")"
      ],
      "execution_count": null,
      "outputs": []
    },
    {
      "cell_type": "code",
      "metadata": {
        "colab": {
          "base_uri": "https://localhost:8080/"
        },
        "id": "6cYbh_uBEZYi",
        "outputId": "0dc5ec47-4d98-413a-d43a-eea4f6fa2e36"
      },
      "source": [
        "model03.evaluate(x_test,y_test)"
      ],
      "execution_count": null,
      "outputs": [
        {
          "output_type": "stream",
          "name": "stdout",
          "text": [
            "313/313 [==============================] - 1s 2ms/step - loss: 0.0841 - accuracy: 0.9741\n"
          ]
        },
        {
          "output_type": "execute_result",
          "data": {
            "text/plain": [
              "[0.08413850516080856, 0.9740999937057495]"
            ]
          },
          "metadata": {},
          "execution_count": 16
        }
      ]
    },
    {
      "cell_type": "code",
      "metadata": {
        "colab": {
          "base_uri": "https://localhost:8080/"
        },
        "id": "_afcsnsNE8cF",
        "outputId": "2552985c-becb-422d-cafe-ea0be560e118"
      },
      "source": [
        "checkpoint = keras.callbacks.ModelCheckpoint(\"model-{epoch:03d}-{accuracy}-{val_accuracy}.h5\",save_best_only=True,monitor=\"val_accuracy\")\n",
        "model.fit(x_train,y_train,epochs=20,batch_size=20,validation_split=0.1,callbacks=[checkpoint])"
      ],
      "execution_count": null,
      "outputs": [
        {
          "output_type": "stream",
          "name": "stdout",
          "text": [
            "Epoch 1/20\n",
            "2700/2700 [==============================] - 7s 2ms/step - loss: 0.2502 - accuracy: 0.9283 - val_loss: 0.1201 - val_accuracy: 0.9658\n",
            "Epoch 2/20\n",
            "2700/2700 [==============================] - 6s 2ms/step - loss: 0.1101 - accuracy: 0.9662 - val_loss: 0.0828 - val_accuracy: 0.9748\n",
            "Epoch 3/20\n",
            "2700/2700 [==============================] - 6s 2ms/step - loss: 0.0736 - accuracy: 0.9774 - val_loss: 0.0754 - val_accuracy: 0.9790\n",
            "Epoch 4/20\n",
            "2700/2700 [==============================] - 6s 2ms/step - loss: 0.0558 - accuracy: 0.9826 - val_loss: 0.0755 - val_accuracy: 0.9778\n",
            "Epoch 5/20\n",
            "2700/2700 [==============================] - 6s 2ms/step - loss: 0.0431 - accuracy: 0.9863 - val_loss: 0.0713 - val_accuracy: 0.9803\n",
            "Epoch 6/20\n",
            "2700/2700 [==============================] - 6s 2ms/step - loss: 0.0330 - accuracy: 0.9893 - val_loss: 0.0776 - val_accuracy: 0.9787\n",
            "Epoch 7/20\n",
            "2700/2700 [==============================] - 6s 2ms/step - loss: 0.0261 - accuracy: 0.9918 - val_loss: 0.0766 - val_accuracy: 0.9807\n",
            "Epoch 8/20\n",
            "2700/2700 [==============================] - 6s 2ms/step - loss: 0.0209 - accuracy: 0.9937 - val_loss: 0.0788 - val_accuracy: 0.9822\n",
            "Epoch 9/20\n",
            "2700/2700 [==============================] - 6s 2ms/step - loss: 0.0180 - accuracy: 0.9941 - val_loss: 0.0889 - val_accuracy: 0.9793\n",
            "Epoch 10/20\n",
            "2700/2700 [==============================] - 6s 2ms/step - loss: 0.0149 - accuracy: 0.9950 - val_loss: 0.0846 - val_accuracy: 0.9800\n",
            "Epoch 11/20\n",
            "2700/2700 [==============================] - 6s 2ms/step - loss: 0.0122 - accuracy: 0.9961 - val_loss: 0.0910 - val_accuracy: 0.9815\n",
            "Epoch 12/20\n",
            "2700/2700 [==============================] - 6s 2ms/step - loss: 0.0117 - accuracy: 0.9960 - val_loss: 0.0896 - val_accuracy: 0.9812\n",
            "Epoch 13/20\n",
            "2700/2700 [==============================] - 6s 2ms/step - loss: 0.0098 - accuracy: 0.9968 - val_loss: 0.0878 - val_accuracy: 0.9833\n",
            "Epoch 14/20\n",
            "2700/2700 [==============================] - 6s 2ms/step - loss: 0.0077 - accuracy: 0.9974 - val_loss: 0.0976 - val_accuracy: 0.9793\n",
            "Epoch 15/20\n",
            "2700/2700 [==============================] - 6s 2ms/step - loss: 0.0098 - accuracy: 0.9967 - val_loss: 0.1071 - val_accuracy: 0.9810\n",
            "Epoch 16/20\n",
            "2700/2700 [==============================] - 6s 2ms/step - loss: 0.0086 - accuracy: 0.9974 - val_loss: 0.1066 - val_accuracy: 0.9803\n",
            "Epoch 17/20\n",
            "2700/2700 [==============================] - 6s 2ms/step - loss: 0.0075 - accuracy: 0.9977 - val_loss: 0.1163 - val_accuracy: 0.9798\n",
            "Epoch 18/20\n",
            "2700/2700 [==============================] - 6s 2ms/step - loss: 0.0060 - accuracy: 0.9981 - val_loss: 0.1096 - val_accuracy: 0.9835\n",
            "Epoch 19/20\n",
            "2700/2700 [==============================] - 6s 2ms/step - loss: 0.0064 - accuracy: 0.9980 - val_loss: 0.1210 - val_accuracy: 0.9822\n",
            "Epoch 20/20\n",
            "2700/2700 [==============================] - 6s 2ms/step - loss: 0.0073 - accuracy: 0.9976 - val_loss: 0.1145 - val_accuracy: 0.9822\n"
          ]
        },
        {
          "output_type": "execute_result",
          "data": {
            "text/plain": [
              "<keras.callbacks.History at 0x7f4fdbc9aa50>"
            ]
          },
          "metadata": {},
          "execution_count": 18
        }
      ]
    },
    {
      "cell_type": "code",
      "metadata": {
        "id": "faJ1QBAcFr3r"
      },
      "source": [
        "model018 = keras.models.load_model(\"model-018-0.9980740547180176-0.9835000038146973.h5\")"
      ],
      "execution_count": null,
      "outputs": []
    },
    {
      "cell_type": "code",
      "metadata": {
        "colab": {
          "base_uri": "https://localhost:8080/"
        },
        "id": "Nw8QDD6OF2rM",
        "outputId": "b891858a-59c3-442d-d1a5-777c0ad9052a"
      },
      "source": [
        "model018.evaluate(x_test,y_test)"
      ],
      "execution_count": null,
      "outputs": [
        {
          "output_type": "stream",
          "name": "stdout",
          "text": [
            "313/313 [==============================] - 1s 2ms/step - loss: 0.1144 - accuracy: 0.9777\n"
          ]
        },
        {
          "output_type": "execute_result",
          "data": {
            "text/plain": [
              "[0.11444848775863647, 0.9776999950408936]"
            ]
          },
          "metadata": {},
          "execution_count": 20
        }
      ]
    },
    {
      "cell_type": "code",
      "metadata": {
        "colab": {
          "base_uri": "https://localhost:8080/"
        },
        "id": "2rCHUrmJGbDl",
        "outputId": "49a96336-c653-42f7-e024-fd65c2096b0f"
      },
      "source": [
        "history = model.fit(x_train,y_train,epochs=20,batch_size=20,validation_split=0.1,callbacks=[checkpoint])"
      ],
      "execution_count": null,
      "outputs": [
        {
          "output_type": "stream",
          "name": "stdout",
          "text": [
            "Epoch 1/20\n",
            "2700/2700 [==============================] - 7s 2ms/step - loss: 0.2522 - accuracy: 0.9269 - val_loss: 0.1110 - val_accuracy: 0.9677\n",
            "Epoch 2/20\n",
            "2700/2700 [==============================] - 6s 2ms/step - loss: 0.1080 - accuracy: 0.9682 - val_loss: 0.0881 - val_accuracy: 0.9743\n",
            "Epoch 3/20\n",
            "2700/2700 [==============================] - 6s 2ms/step - loss: 0.0760 - accuracy: 0.9766 - val_loss: 0.0773 - val_accuracy: 0.9770\n",
            "Epoch 4/20\n",
            "2700/2700 [==============================] - 6s 2ms/step - loss: 0.0559 - accuracy: 0.9825 - val_loss: 0.0797 - val_accuracy: 0.9770\n",
            "Epoch 5/20\n",
            "2700/2700 [==============================] - 6s 2ms/step - loss: 0.0418 - accuracy: 0.9874 - val_loss: 0.0722 - val_accuracy: 0.9800\n",
            "Epoch 6/20\n",
            "2700/2700 [==============================] - 6s 2ms/step - loss: 0.0335 - accuracy: 0.9890 - val_loss: 0.0755 - val_accuracy: 0.9780\n",
            "Epoch 7/20\n",
            "2700/2700 [==============================] - 6s 2ms/step - loss: 0.0264 - accuracy: 0.9916 - val_loss: 0.0770 - val_accuracy: 0.9805\n",
            "Epoch 8/20\n",
            "2700/2700 [==============================] - 6s 2ms/step - loss: 0.0219 - accuracy: 0.9932 - val_loss: 0.0837 - val_accuracy: 0.9788\n",
            "Epoch 9/20\n",
            "2700/2700 [==============================] - 6s 2ms/step - loss: 0.0183 - accuracy: 0.9941 - val_loss: 0.0815 - val_accuracy: 0.9787\n",
            "Epoch 10/20\n",
            "2700/2700 [==============================] - 6s 2ms/step - loss: 0.0141 - accuracy: 0.9956 - val_loss: 0.0836 - val_accuracy: 0.9795\n",
            "Epoch 11/20\n",
            "2700/2700 [==============================] - 6s 2ms/step - loss: 0.0145 - accuracy: 0.9954 - val_loss: 0.0916 - val_accuracy: 0.9813\n",
            "Epoch 12/20\n",
            "2700/2700 [==============================] - 6s 2ms/step - loss: 0.0117 - accuracy: 0.9962 - val_loss: 0.1017 - val_accuracy: 0.9785\n",
            "Epoch 13/20\n",
            "2700/2700 [==============================] - 6s 2ms/step - loss: 0.0101 - accuracy: 0.9967 - val_loss: 0.1011 - val_accuracy: 0.9785\n",
            "Epoch 14/20\n",
            "2700/2700 [==============================] - 6s 2ms/step - loss: 0.0092 - accuracy: 0.9969 - val_loss: 0.1062 - val_accuracy: 0.9792\n",
            "Epoch 15/20\n",
            "2700/2700 [==============================] - 6s 2ms/step - loss: 0.0091 - accuracy: 0.9970 - val_loss: 0.1076 - val_accuracy: 0.9807\n",
            "Epoch 16/20\n",
            "2700/2700 [==============================] - 6s 2ms/step - loss: 0.0088 - accuracy: 0.9971 - val_loss: 0.1028 - val_accuracy: 0.9808\n",
            "Epoch 17/20\n",
            "2700/2700 [==============================] - 6s 2ms/step - loss: 0.0066 - accuracy: 0.9979 - val_loss: 0.1353 - val_accuracy: 0.9765\n",
            "Epoch 18/20\n",
            "2700/2700 [==============================] - 6s 2ms/step - loss: 0.0064 - accuracy: 0.9980 - val_loss: 0.1167 - val_accuracy: 0.9803\n",
            "Epoch 19/20\n",
            "2700/2700 [==============================] - 6s 2ms/step - loss: 0.0065 - accuracy: 0.9979 - val_loss: 0.1172 - val_accuracy: 0.9805\n",
            "Epoch 20/20\n",
            "2700/2700 [==============================] - 7s 2ms/step - loss: 0.0054 - accuracy: 0.9983 - val_loss: 0.1480 - val_accuracy: 0.9775\n"
          ]
        }
      ]
    },
    {
      "cell_type": "code",
      "metadata": {
        "colab": {
          "base_uri": "https://localhost:8080/",
          "height": 295
        },
        "id": "NRJ5yQ9RHXzM",
        "outputId": "2bf3b686-65ba-4624-a16f-7cfb6c309391"
      },
      "source": [
        "plt.plot(history.history['accuracy'])\n",
        "plt.plot(history.history['val_accuracy'])\n",
        "plt.title('model accuracy')\n",
        "plt.yscale('log')\n",
        "plt.ylabel('accuracy')\n",
        "plt.xlabel('epoch')\n",
        "plt.legend(['train', 'val'], loc='upper left')\n",
        "plt.show()"
      ],
      "execution_count": null,
      "outputs": [
        {
          "output_type": "display_data",
          "data": {
            "image/png": "[encoded data removed]",
            "text/plain": [
              "<Figure size 432x288 with 1 Axes>"
            ]
          },
          "metadata": {
            "needs_background": "light"
          }
        }
      ]
    },
    {
      "cell_type": "code",
      "metadata": {
        "id": "dyJ9eO7rIBkc",
        "colab": {
          "base_uri": "https://localhost:8080/",
          "height": 295
        },
        "outputId": "6f08bf93-f222-4333-a661-fa5503137e38"
      },
      "source": [
        "plt.plot(history.history['loss'])\n",
        "plt.plot(history.history['val_loss'])\n",
        "plt.title('model accuracy')\n",
        "plt.yscale('log')\n",
        "plt.ylabel('accuracy')\n",
        "plt.xlabel('epoch')\n",
        "plt.legend(['train', 'val'], loc='upper left')\n",
        "plt.show()"
      ],
      "execution_count": null,
      "outputs": [
        {
          "output_type": "display_data",
          "data": {
            "image/png": "[encoded data removed]",
            "text/plain": [
              "<Figure size 432x288 with 1 Axes>"
            ]
          },
          "metadata": {
            "needs_background": "light"
          }
        }
      ]
    }
  ]
}