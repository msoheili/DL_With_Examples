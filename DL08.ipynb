{
  "cells": [
    {
      "cell_type": "code",
      "execution_count": 1,
      "metadata": {
        "id": "vDk0Qwo8gtqK"
      },
      "outputs": [],
      "source": [
        "import cv2\n",
        "import numpy as np\n",
        "from numpy import random\n",
        "from tensorflow import keras\n",
        "from tensorflow.keras import layers\n",
        "from matplotlib import pyplot as plt\n",
        "%matplotlib inline"
      ]
    },
    {
      "cell_type": "code",
      "execution_count": 2,
      "metadata": {
        "colab": {
          "base_uri": "https://localhost:8080/"
        },
        "id": "0GwY8d4jhE4d",
        "outputId": "a4ed611a-dee2-4242-ae39-6fdf6d367173"
      },
      "outputs": [
        {
          "output_type": "stream",
          "name": "stdout",
          "text": [
            "Downloading data from https://storage.googleapis.com/tensorflow/tf-keras-datasets/mnist.npz\n",
            "11493376/11490434 [==============================] - 0s 0us/step\n",
            "11501568/11490434 [==============================] - 0s 0us/step\n"
          ]
        }
      ],
      "source": [
        "(x_train,y_train),(x_test,y_test)=keras.datasets.mnist.load_data()"
      ]
    },
    {
      "cell_type": "code",
      "execution_count": 3,
      "metadata": {
        "id": "ly7Q_xYjhFsV"
      },
      "outputs": [],
      "source": [
        "minImg=24\n",
        "maxImg=64\n",
        "minInnerImg=20\n",
        "def loadImage(image,imgSize):\n",
        "  innerImgSize=(random.randint(minInnerImg,imgSize[0]),random.randint(minInnerImg,imgSize[1]))\n",
        "  image=cv2.resize(image,(innerImgSize[1],innerImgSize[0]))\n",
        "  BlankImg=np.zeros(imgSize)\n",
        "  imageOffset=(random.randint(0,imgSize[0]-innerImgSize[0]),random.randint(0,imgSize[1]-innerImgSize[1]))\n",
        "  BlankImg[imageOffset[0]:imageOffset[0]+innerImgSize[0],imageOffset[1]:imageOffset[1]+innerImgSize[1]]=image\n",
        "  image=BlankImg\n",
        "  image = image.astype(\"float32\") / 255\n",
        "  image = np.expand_dims(image, -1)\n",
        "  return image"
      ]
    },
    {
      "cell_type": "code",
      "execution_count": 6,
      "metadata": {
        "colab": {
          "base_uri": "https://localhost:8080/",
          "height": 285
        },
        "id": "a5MtlzgKhXea",
        "outputId": "2a29dc3f-02d3-49ff-ee26-2397473795ca"
      },
      "outputs": [
        {
          "output_type": "execute_result",
          "data": {
            "text/plain": [
              "<matplotlib.image.AxesImage at 0x7fe310f09610>"
            ]
          },
          "metadata": {},
          "execution_count": 6
        },
        {
          "output_type": "display_data",
          "data": {
            "image/png": "[encoded data removed]",
            "text/plain": [
              "<Figure size 432x288 with 1 Axes>"
            ]
          },
          "metadata": {
            "needs_background": "light"
          }
        }
      ],
      "source": [
        "plt.imshow(loadImage(x_train[0],(48,48)).squeeze(),cmap=\"gray\")"
      ]
    },
    {
      "cell_type": "code",
      "execution_count": null,
      "metadata": {
        "id": "LL0PBw0_iiMw"
      },
      "outputs": [],
      "source": [
        "num_classes=10"
      ]
    },
    {
      "cell_type": "code",
      "execution_count": null,
      "metadata": {
        "id": "XtXeqdeyirNU"
      },
      "outputs": [],
      "source": [
        "from tensorflow.keras.utils import Sequence\n",
        "class data_generator(Sequence):\n",
        "  def __init__(self,input_images,lables,batch_size,shuffle=True):\n",
        "    self.input_images = input_images\n",
        "    self.lables = lables\n",
        "    self.batch_size = batch_size\n",
        "    self.indices = np.arange(len(self.input_images))\n",
        "    self.shuffle=shuffle\n",
        "  def __len__(self):\n",
        "    return int(np.ceil(len(self.input_images)/float(self.batch_size)))\n",
        "\n",
        "  def on_epoch_end(self):\n",
        "      'Updates indexes after each epoch'\n",
        "      self.indices = np.arange(len(self.input_images))\n",
        "      if self.shuffle == True:\n",
        "          np.random.shuffle(self.indices)\n",
        "\n",
        "  \n",
        "  def __getitem__(self,idx):\n",
        "    inds=self.indices[idx*self.batch_size:(idx+1)*self.batch_size]\n",
        "    batch_x = self.input_images[inds]\n",
        "    batch_y = self.lables[inds]\n",
        "    # Important images of each batch should have the same size\n",
        "    imgSize=(random.randint(minImg,maxImg),random.randint(minImg,maxImg))\n",
        "\n",
        "    return np.array([loadImage(image,imgSize) for image in batch_x]),np.array([keras.utils.to_categorical(y, num_classes) for y in batch_y])"
      ]
    },
    {
      "cell_type": "code",
      "execution_count": null,
      "metadata": {
        "colab": {
          "base_uri": "https://localhost:8080/"
        },
        "id": "7KeKeC_0jHdA",
        "outputId": "10d95c11-9b62-435a-af1e-e88268d6830e"
      },
      "outputs": [
        {
          "name": "stdout",
          "output_type": "stream",
          "text": [
            "Model: \"model\"\n",
            "_________________________________________________________________\n",
            "Layer (type)                 Output Shape              Param #   \n",
            "=================================================================\n",
            "inputLayer (InputLayer)      [(None, None, None, 1)]   0         \n",
            "_________________________________________________________________\n",
            "conv2d (Conv2D)              (None, None, None, 16)    160       \n",
            "_________________________________________________________________\n",
            "average_pooling2d (AveragePo (None, None, None, 16)    0         \n",
            "_________________________________________________________________\n",
            "batch_normalization (BatchNo (None, None, None, 16)    64        \n",
            "_________________________________________________________________\n",
            "conv2d_1 (Conv2D)            (None, None, None, 32)    4640      \n",
            "_________________________________________________________________\n",
            "average_pooling2d_1 (Average (None, None, None, 32)    0         \n",
            "_________________________________________________________________\n",
            "batch_normalization_1 (Batch (None, None, None, 32)    128       \n",
            "_________________________________________________________________\n",
            "conv2d_2 (Conv2D)            (None, None, None, 64)    18496     \n",
            "_________________________________________________________________\n",
            "average_pooling2d_2 (Average (None, None, None, 64)    0         \n",
            "_________________________________________________________________\n",
            "batch_normalization_2 (Batch (None, None, None, 64)    256       \n",
            "_________________________________________________________________\n",
            "conv2d_3 (Conv2D)            (None, None, None, 10)    650       \n",
            "_________________________________________________________________\n",
            "global_average_pooling2d (Gl (None, 10)                0         \n",
            "_________________________________________________________________\n",
            "activation (Activation)      (None, 10)                0         \n",
            "=================================================================\n",
            "Total params: 24,394\n",
            "Trainable params: 24,170\n",
            "Non-trainable params: 224\n",
            "_________________________________________________________________\n"
          ]
        }
      ],
      "source": [
        "inputImg = layers.Input(shape=(None,None,1),name=\"inputLayer\",dtype=\"float\")\n",
        "x=layers.Conv2D(16,(3,3),activation=\"relu\",padding=\"same\")(inputImg)\n",
        "x=layers.AveragePooling2D((2,2))(x)\n",
        "x=layers.BatchNormalization()(x)\n",
        "\n",
        "x=layers.Conv2D(32,(3,3),activation=\"relu\",padding=\"same\")(x)\n",
        "x=layers.AveragePooling2D((2,2))(x)\n",
        "x=layers.BatchNormalization()(x)\n",
        "\n",
        "x=layers.Conv2D(64,(3,3),activation=\"relu\",padding=\"same\")(x)\n",
        "x=layers.AveragePooling2D((2,2))(x)\n",
        "x=layers.BatchNormalization()(x)\n",
        "\n",
        "x=layers.Conv2D(num_classes,(1,1),activation=\"relu\",padding=\"same\")(x)\n",
        "x=layers.GlobalAveragePooling2D()(x)\n",
        "#out=layers.Dense(num_classes,activation=\"softmax\")(x)\n",
        "out=layers.Activation(\"softmax\")(x)\n",
        "\n",
        "model = keras.Model(inputImg,out)\n",
        "model.compile(loss=\"categorical_crossentropy\",optimizer=\"adam\",metrics=[\"accuracy\"])\n",
        "model.summary()"
      ]
    },
    {
      "cell_type": "code",
      "execution_count": null,
      "metadata": {
        "colab": {
          "base_uri": "https://localhost:8080/"
        },
        "id": "VvKcbOZNkMNj",
        "outputId": "478506e9-3614-419e-b849-bbdc761208f8"
      },
      "outputs": [
        {
          "name": "stdout",
          "output_type": "stream",
          "text": [
            "Epoch 1/50\n"
          ]
        },
        {
          "name": "stderr",
          "output_type": "stream",
          "text": [
            "/home/reza/.local/lib/python3.6/site-packages/tensorflow/python/keras/engine/training.py:1844: UserWarning: `Model.fit_generator` is deprecated and will be removed in a future version. Please use `Model.fit`, which supports generators.\n",
            "  warnings.warn('`Model.fit_generator` is deprecated and '\n"
          ]
        },
        {
          "name": "stdout",
          "output_type": "stream",
          "text": [
            "WARNING:tensorflow:multiprocessing can interact badly with TensorFlow, causing nondeterministic deadlocks. For high performance data pipelines tf.data is recommended.\n",
            "392/400 [============================>.] - ETA: 0s - loss: 1.3993 - accuracy: 0.5988WARNING:tensorflow:multiprocessing can interact badly with TensorFlow, causing nondeterministic deadlocks. For high performance data pipelines tf.data is recommended.\n",
            "WARNING:tensorflow:multiprocessing can interact badly with TensorFlow, causing nondeterministic deadlocks. For high performance data pipelines tf.data is recommended.\n",
            "400/400 [==============================] - 9s 16ms/step - loss: 1.3879 - accuracy: 0.6029 - val_loss: 10.2545 - val_accuracy: 0.0997\n",
            "Epoch 2/50\n",
            "WARNING:tensorflow:multiprocessing can interact badly with TensorFlow, causing nondeterministic deadlocks. For high performance data pipelines tf.data is recommended.\n",
            "396/400 [============================>.] - ETA: 0s - loss: 0.2996 - accuracy: 0.9412WARNING:tensorflow:multiprocessing can interact badly with TensorFlow, causing nondeterministic deadlocks. For high performance data pipelines tf.data is recommended.\n",
            "WARNING:tensorflow:multiprocessing can interact badly with TensorFlow, causing nondeterministic deadlocks. For high performance data pipelines tf.data is recommended.\n",
            "400/400 [==============================] - 7s 14ms/step - loss: 0.2988 - accuracy: 0.9413 - val_loss: 2.9516 - val_accuracy: 0.3654\n",
            "Epoch 3/50\n",
            "WARNING:tensorflow:multiprocessing can interact badly with TensorFlow, causing nondeterministic deadlocks. For high performance data pipelines tf.data is recommended.\n",
            "394/400 [============================>.] - ETA: 0s - loss: 0.1705 - accuracy: 0.9623WARNING:tensorflow:multiprocessing can interact badly with TensorFlow, causing nondeterministic deadlocks. For high performance data pipelines tf.data is recommended.\n",
            "WARNING:tensorflow:multiprocessing can interact badly with TensorFlow, causing nondeterministic deadlocks. For high performance data pipelines tf.data is recommended.\n",
            "400/400 [==============================] - 7s 14ms/step - loss: 0.1705 - accuracy: 0.9623 - val_loss: 0.5550 - val_accuracy: 0.8269\n",
            "Epoch 4/50\n",
            "WARNING:tensorflow:multiprocessing can interact badly with TensorFlow, causing nondeterministic deadlocks. For high performance data pipelines tf.data is recommended.\n",
            "399/400 [============================>.] - ETA: 0s - loss: 0.1208 - accuracy: 0.9704WARNING:tensorflow:multiprocessing can interact badly with TensorFlow, causing nondeterministic deadlocks. For high performance data pipelines tf.data is recommended.\n",
            "WARNING:tensorflow:multiprocessing can interact badly with TensorFlow, causing nondeterministic deadlocks. For high performance data pipelines tf.data is recommended.\n",
            "400/400 [==============================] - 7s 14ms/step - loss: 0.1208 - accuracy: 0.9704 - val_loss: 1.1621 - val_accuracy: 0.6561\n",
            "Epoch 5/50\n",
            "WARNING:tensorflow:multiprocessing can interact badly with TensorFlow, causing nondeterministic deadlocks. For high performance data pipelines tf.data is recommended.\n",
            "384/400 [===========================>..] - ETA: 0s - loss: 0.0970 - accuracy: 0.9757WARNING:tensorflow:multiprocessing can interact badly with TensorFlow, causing nondeterministic deadlocks. For high performance data pipelines tf.data is recommended.\n",
            "WARNING:tensorflow:multiprocessing can interact badly with TensorFlow, causing nondeterministic deadlocks. For high performance data pipelines tf.data is recommended.\n",
            "400/400 [==============================] - 8s 15ms/step - loss: 0.0969 - accuracy: 0.9757 - val_loss: 0.2133 - val_accuracy: 0.9332\n",
            "Epoch 6/50\n",
            "WARNING:tensorflow:multiprocessing can interact badly with TensorFlow, causing nondeterministic deadlocks. For high performance data pipelines tf.data is recommended.\n",
            "400/400 [==============================] - ETA: 0s - loss: 0.0904 - accuracy: 0.9767WARNING:tensorflow:multiprocessing can interact badly with TensorFlow, causing nondeterministic deadlocks. For high performance data pipelines tf.data is recommended.\n",
            "WARNING:tensorflow:multiprocessing can interact badly with TensorFlow, causing nondeterministic deadlocks. For high performance data pipelines tf.data is recommended.\n",
            "400/400 [==============================] - 7s 14ms/step - loss: 0.0904 - accuracy: 0.9767 - val_loss: 0.4413 - val_accuracy: 0.8405\n",
            "Epoch 7/50\n",
            "WARNING:tensorflow:multiprocessing can interact badly with TensorFlow, causing nondeterministic deadlocks. For high performance data pipelines tf.data is recommended.\n",
            "385/400 [===========================>..] - ETA: 0s - loss: 0.0757 - accuracy: 0.9787WARNING:tensorflow:multiprocessing can interact badly with TensorFlow, causing nondeterministic deadlocks. For high performance data pipelines tf.data is recommended.\n",
            "WARNING:tensorflow:multiprocessing can interact badly with TensorFlow, causing nondeterministic deadlocks. For high performance data pipelines tf.data is recommended.\n",
            "400/400 [==============================] - 7s 13ms/step - loss: 0.0756 - accuracy: 0.9787 - val_loss: 0.3411 - val_accuracy: 0.8934\n",
            "Epoch 8/50\n",
            "WARNING:tensorflow:multiprocessing can interact badly with TensorFlow, causing nondeterministic deadlocks. For high performance data pipelines tf.data is recommended.\n",
            "398/400 [============================>.] - ETA: 0s - loss: 0.0702 - accuracy: 0.9812WARNING:tensorflow:multiprocessing can interact badly with TensorFlow, causing nondeterministic deadlocks. For high performance data pipelines tf.data is recommended.\n",
            "WARNING:tensorflow:multiprocessing can interact badly with TensorFlow, causing nondeterministic deadlocks. For high performance data pipelines tf.data is recommended.\n",
            "400/400 [==============================] - 7s 14ms/step - loss: 0.0702 - accuracy: 0.9812 - val_loss: 0.1225 - val_accuracy: 0.9652\n",
            "Epoch 9/50\n",
            "WARNING:tensorflow:multiprocessing can interact badly with TensorFlow, causing nondeterministic deadlocks. For high performance data pipelines tf.data is recommended.\n",
            "390/400 [============================>.] - ETA: 0s - loss: 0.0559 - accuracy: 0.9839WARNING:tensorflow:multiprocessing can interact badly with TensorFlow, causing nondeterministic deadlocks. For high performance data pipelines tf.data is recommended.\n",
            "WARNING:tensorflow:multiprocessing can interact badly with TensorFlow, causing nondeterministic deadlocks. For high performance data pipelines tf.data is recommended.\n",
            "400/400 [==============================] - 7s 13ms/step - loss: 0.0560 - accuracy: 0.9838 - val_loss: 3.4525 - val_accuracy: 0.4694\n",
            "Epoch 10/50\n",
            "WARNING:tensorflow:multiprocessing can interact badly with TensorFlow, causing nondeterministic deadlocks. For high performance data pipelines tf.data is recommended.\n",
            "391/400 [============================>.] - ETA: 0s - loss: 0.0675 - accuracy: 0.9819WARNING:tensorflow:multiprocessing can interact badly with TensorFlow, causing nondeterministic deadlocks. For high performance data pipelines tf.data is recommended.\n",
            "WARNING:tensorflow:multiprocessing can interact badly with TensorFlow, causing nondeterministic deadlocks. For high performance data pipelines tf.data is recommended.\n",
            "400/400 [==============================] - 7s 14ms/step - loss: 0.0672 - accuracy: 0.9820 - val_loss: 0.2006 - val_accuracy: 0.9319\n",
            "Epoch 11/50\n",
            "WARNING:tensorflow:multiprocessing can interact badly with TensorFlow, causing nondeterministic deadlocks. For high performance data pipelines tf.data is recommended.\n",
            "389/400 [============================>.] - ETA: 0s - loss: 0.0570 - accuracy: 0.9841WARNING:tensorflow:multiprocessing can interact badly with TensorFlow, causing nondeterministic deadlocks. For high performance data pipelines tf.data is recommended.\n",
            "WARNING:tensorflow:multiprocessing can interact badly with TensorFlow, causing nondeterministic deadlocks. For high performance data pipelines tf.data is recommended.\n",
            "400/400 [==============================] - 6s 13ms/step - loss: 0.0569 - accuracy: 0.9841 - val_loss: 0.2190 - val_accuracy: 0.9148\n",
            "Epoch 12/50\n",
            "WARNING:tensorflow:multiprocessing can interact badly with TensorFlow, causing nondeterministic deadlocks. For high performance data pipelines tf.data is recommended.\n",
            "393/400 [============================>.] - ETA: 0s - loss: 0.0431 - accuracy: 0.9872WARNING:tensorflow:multiprocessing can interact badly with TensorFlow, causing nondeterministic deadlocks. For high performance data pipelines tf.data is recommended.\n",
            "WARNING:tensorflow:multiprocessing can interact badly with TensorFlow, causing nondeterministic deadlocks. For high performance data pipelines tf.data is recommended.\n",
            "400/400 [==============================] - 7s 14ms/step - loss: 0.0432 - accuracy: 0.9872 - val_loss: 0.1984 - val_accuracy: 0.9355\n",
            "Epoch 13/50\n",
            "WARNING:tensorflow:multiprocessing can interact badly with TensorFlow, causing nondeterministic deadlocks. For high performance data pipelines tf.data is recommended.\n",
            "389/400 [============================>.] - ETA: 0s - loss: 0.0606 - accuracy: 0.9832WARNING:tensorflow:multiprocessing can interact badly with TensorFlow, causing nondeterministic deadlocks. For high performance data pipelines tf.data is recommended.\n",
            "WARNING:tensorflow:multiprocessing can interact badly with TensorFlow, causing nondeterministic deadlocks. For high performance data pipelines tf.data is recommended.\n",
            "400/400 [==============================] - 7s 14ms/step - loss: 0.0604 - accuracy: 0.9833 - val_loss: 0.0829 - val_accuracy: 0.9757\n",
            "Epoch 14/50\n",
            "WARNING:tensorflow:multiprocessing can interact badly with TensorFlow, causing nondeterministic deadlocks. For high performance data pipelines tf.data is recommended.\n",
            "392/400 [============================>.] - ETA: 0s - loss: 0.0564 - accuracy: 0.9847WARNING:tensorflow:multiprocessing can interact badly with TensorFlow, causing nondeterministic deadlocks. For high performance data pipelines tf.data is recommended.\n",
            "WARNING:tensorflow:multiprocessing can interact badly with TensorFlow, causing nondeterministic deadlocks. For high performance data pipelines tf.data is recommended.\n",
            "400/400 [==============================] - 7s 14ms/step - loss: 0.0563 - accuracy: 0.9847 - val_loss: 0.1805 - val_accuracy: 0.9320\n",
            "Epoch 15/50\n",
            "WARNING:tensorflow:multiprocessing can interact badly with TensorFlow, causing nondeterministic deadlocks. For high performance data pipelines tf.data is recommended.\n",
            "395/400 [============================>.] - ETA: 0s - loss: 0.0474 - accuracy: 0.9860WARNING:tensorflow:multiprocessing can interact badly with TensorFlow, causing nondeterministic deadlocks. For high performance data pipelines tf.data is recommended.\n",
            "WARNING:tensorflow:multiprocessing can interact badly with TensorFlow, causing nondeterministic deadlocks. For high performance data pipelines tf.data is recommended.\n",
            "400/400 [==============================] - 7s 15ms/step - loss: 0.0474 - accuracy: 0.9860 - val_loss: 0.1527 - val_accuracy: 0.9556\n",
            "Epoch 16/50\n",
            "WARNING:tensorflow:multiprocessing can interact badly with TensorFlow, causing nondeterministic deadlocks. For high performance data pipelines tf.data is recommended.\n",
            "400/400 [==============================] - ETA: 0s - loss: 0.0449 - accuracy: 0.9870WARNING:tensorflow:multiprocessing can interact badly with TensorFlow, causing nondeterministic deadlocks. For high performance data pipelines tf.data is recommended.\n",
            "WARNING:tensorflow:multiprocessing can interact badly with TensorFlow, causing nondeterministic deadlocks. For high performance data pipelines tf.data is recommended.\n",
            "400/400 [==============================] - 7s 14ms/step - loss: 0.0449 - accuracy: 0.9870 - val_loss: 0.5354 - val_accuracy: 0.8306\n",
            "Epoch 17/50\n",
            "WARNING:tensorflow:multiprocessing can interact badly with TensorFlow, causing nondeterministic deadlocks. For high performance data pipelines tf.data is recommended.\n",
            "396/400 [============================>.] - ETA: 0s - loss: 0.0384 - accuracy: 0.9888WARNING:tensorflow:multiprocessing can interact badly with TensorFlow, causing nondeterministic deadlocks. For high performance data pipelines tf.data is recommended.\n",
            "WARNING:tensorflow:multiprocessing can interact badly with TensorFlow, causing nondeterministic deadlocks. For high performance data pipelines tf.data is recommended.\n",
            "400/400 [==============================] - 7s 13ms/step - loss: 0.0385 - accuracy: 0.9888 - val_loss: 0.1853 - val_accuracy: 0.9376\n",
            "Epoch 18/50\n",
            "WARNING:tensorflow:multiprocessing can interact badly with TensorFlow, causing nondeterministic deadlocks. For high performance data pipelines tf.data is recommended.\n",
            "394/400 [============================>.] - ETA: 0s - loss: 0.0373 - accuracy: 0.9883WARNING:tensorflow:multiprocessing can interact badly with TensorFlow, causing nondeterministic deadlocks. For high performance data pipelines tf.data is recommended.\n",
            "WARNING:tensorflow:multiprocessing can interact badly with TensorFlow, causing nondeterministic deadlocks. For high performance data pipelines tf.data is recommended.\n",
            "400/400 [==============================] - 7s 13ms/step - loss: 0.0374 - accuracy: 0.9883 - val_loss: 0.0999 - val_accuracy: 0.9720\n",
            "Epoch 19/50\n",
            "WARNING:tensorflow:multiprocessing can interact badly with TensorFlow, causing nondeterministic deadlocks. For high performance data pipelines tf.data is recommended.\n",
            "399/400 [============================>.] - ETA: 0s - loss: 0.0392 - accuracy: 0.9892WARNING:tensorflow:multiprocessing can interact badly with TensorFlow, causing nondeterministic deadlocks. For high performance data pipelines tf.data is recommended.\n",
            "WARNING:tensorflow:multiprocessing can interact badly with TensorFlow, causing nondeterministic deadlocks. For high performance data pipelines tf.data is recommended.\n",
            "400/400 [==============================] - 6s 13ms/step - loss: 0.0392 - accuracy: 0.9892 - val_loss: 0.5219 - val_accuracy: 0.8647\n",
            "Epoch 20/50\n",
            "WARNING:tensorflow:multiprocessing can interact badly with TensorFlow, causing nondeterministic deadlocks. For high performance data pipelines tf.data is recommended.\n",
            "384/400 [===========================>..] - ETA: 0s - loss: 0.0407 - accuracy: 0.9885WARNING:tensorflow:multiprocessing can interact badly with TensorFlow, causing nondeterministic deadlocks. For high performance data pipelines tf.data is recommended.\n",
            "400/400 [==============================] - ETA: 0s - loss: 0.0407 - accuracy: 0.9885WARNING:tensorflow:multiprocessing can interact badly with TensorFlow, causing nondeterministic deadlocks. For high performance data pipelines tf.data is recommended.\n",
            "400/400 [==============================] - 6s 13ms/step - loss: 0.0407 - accuracy: 0.9885 - val_loss: 0.1296 - val_accuracy: 0.9602\n",
            "Epoch 21/50\n",
            "WARNING:tensorflow:multiprocessing can interact badly with TensorFlow, causing nondeterministic deadlocks. For high performance data pipelines tf.data is recommended.\n",
            "388/400 [============================>.] - ETA: 0s - loss: 0.0412 - accuracy: 0.9887WARNING:tensorflow:multiprocessing can interact badly with TensorFlow, causing nondeterministic deadlocks. For high performance data pipelines tf.data is recommended.\n",
            "WARNING:tensorflow:multiprocessing can interact badly with TensorFlow, causing nondeterministic deadlocks. For high performance data pipelines tf.data is recommended.\n",
            "400/400 [==============================] - 6s 12ms/step - loss: 0.0411 - accuracy: 0.9887 - val_loss: 0.0885 - val_accuracy: 0.9762\n",
            "Epoch 22/50\n",
            "WARNING:tensorflow:multiprocessing can interact badly with TensorFlow, causing nondeterministic deadlocks. For high performance data pipelines tf.data is recommended.\n",
            "399/400 [============================>.] - ETA: 0s - loss: 0.0349 - accuracy: 0.9901WARNING:tensorflow:multiprocessing can interact badly with TensorFlow, causing nondeterministic deadlocks. For high performance data pipelines tf.data is recommended.\n",
            "WARNING:tensorflow:multiprocessing can interact badly with TensorFlow, causing nondeterministic deadlocks. For high performance data pipelines tf.data is recommended.\n",
            "400/400 [==============================] - 6s 12ms/step - loss: 0.0349 - accuracy: 0.9901 - val_loss: 0.0864 - val_accuracy: 0.9769\n",
            "Epoch 23/50\n",
            "WARNING:tensorflow:multiprocessing can interact badly with TensorFlow, causing nondeterministic deadlocks. For high performance data pipelines tf.data is recommended.\n",
            "393/400 [============================>.] - ETA: 0s - loss: 0.0328 - accuracy: 0.9902WARNING:tensorflow:multiprocessing can interact badly with TensorFlow, causing nondeterministic deadlocks. For high performance data pipelines tf.data is recommended.\n",
            "WARNING:tensorflow:multiprocessing can interact badly with TensorFlow, causing nondeterministic deadlocks. For high performance data pipelines tf.data is recommended.\n",
            "400/400 [==============================] - 7s 13ms/step - loss: 0.0329 - accuracy: 0.9902 - val_loss: 0.1052 - val_accuracy: 0.9763\n",
            "Epoch 24/50\n",
            "WARNING:tensorflow:multiprocessing can interact badly with TensorFlow, causing nondeterministic deadlocks. For high performance data pipelines tf.data is recommended.\n",
            "388/400 [============================>.] - ETA: 0s - loss: 0.0266 - accuracy: 0.9923WARNING:tensorflow:multiprocessing can interact badly with TensorFlow, causing nondeterministic deadlocks. For high performance data pipelines tf.data is recommended.\n",
            "WARNING:tensorflow:multiprocessing can interact badly with TensorFlow, causing nondeterministic deadlocks. For high performance data pipelines tf.data is recommended.\n",
            "400/400 [==============================] - 6s 12ms/step - loss: 0.0268 - accuracy: 0.9923 - val_loss: 2.2665 - val_accuracy: 0.5566\n",
            "Epoch 25/50\n",
            "WARNING:tensorflow:multiprocessing can interact badly with TensorFlow, causing nondeterministic deadlocks. For high performance data pipelines tf.data is recommended.\n",
            "393/400 [============================>.] - ETA: 0s - loss: 0.0366 - accuracy: 0.9897WARNING:tensorflow:multiprocessing can interact badly with TensorFlow, causing nondeterministic deadlocks. For high performance data pipelines tf.data is recommended.\n",
            "WARNING:tensorflow:multiprocessing can interact badly with TensorFlow, causing nondeterministic deadlocks. For high performance data pipelines tf.data is recommended.\n",
            "400/400 [==============================] - 6s 13ms/step - loss: 0.0366 - accuracy: 0.9897 - val_loss: 0.4081 - val_accuracy: 0.8507\n",
            "Epoch 26/50\n",
            "WARNING:tensorflow:multiprocessing can interact badly with TensorFlow, causing nondeterministic deadlocks. For high performance data pipelines tf.data is recommended.\n",
            "397/400 [============================>.] - ETA: 0s - loss: 0.0348 - accuracy: 0.9902WARNING:tensorflow:multiprocessing can interact badly with TensorFlow, causing nondeterministic deadlocks. For high performance data pipelines tf.data is recommended.\n",
            "WARNING:tensorflow:multiprocessing can interact badly with TensorFlow, causing nondeterministic deadlocks. For high performance data pipelines tf.data is recommended.\n",
            "400/400 [==============================] - 7s 13ms/step - loss: 0.0348 - accuracy: 0.9902 - val_loss: 0.1972 - val_accuracy: 0.9317\n",
            "Epoch 27/50\n",
            "WARNING:tensorflow:multiprocessing can interact badly with TensorFlow, causing nondeterministic deadlocks. For high performance data pipelines tf.data is recommended.\n",
            "389/400 [============================>.] - ETA: 0s - loss: 0.0360 - accuracy: 0.9898WARNING:tensorflow:multiprocessing can interact badly with TensorFlow, causing nondeterministic deadlocks. For high performance data pipelines tf.data is recommended.\n",
            "WARNING:tensorflow:multiprocessing can interact badly with TensorFlow, causing nondeterministic deadlocks. For high performance data pipelines tf.data is recommended.\n",
            "400/400 [==============================] - 6s 11ms/step - loss: 0.0359 - accuracy: 0.9898 - val_loss: 0.1109 - val_accuracy: 0.9737\n",
            "Epoch 28/50\n",
            "WARNING:tensorflow:multiprocessing can interact badly with TensorFlow, causing nondeterministic deadlocks. For high performance data pipelines tf.data is recommended.\n",
            "393/400 [============================>.] - ETA: 0s - loss: 0.0311 - accuracy: 0.9903WARNING:tensorflow:multiprocessing can interact badly with TensorFlow, causing nondeterministic deadlocks. For high performance data pipelines tf.data is recommended.\n",
            "WARNING:tensorflow:multiprocessing can interact badly with TensorFlow, causing nondeterministic deadlocks. For high performance data pipelines tf.data is recommended.\n",
            "400/400 [==============================] - 6s 13ms/step - loss: 0.0311 - accuracy: 0.9903 - val_loss: 0.0658 - val_accuracy: 0.9843\n",
            "Epoch 29/50\n",
            "WARNING:tensorflow:multiprocessing can interact badly with TensorFlow, causing nondeterministic deadlocks. For high performance data pipelines tf.data is recommended.\n",
            "399/400 [============================>.] - ETA: 0s - loss: 0.0327 - accuracy: 0.9900WARNING:tensorflow:multiprocessing can interact badly with TensorFlow, causing nondeterministic deadlocks. For high performance data pipelines tf.data is recommended.\n",
            "WARNING:tensorflow:multiprocessing can interact badly with TensorFlow, causing nondeterministic deadlocks. For high performance data pipelines tf.data is recommended.\n",
            "400/400 [==============================] - 6s 13ms/step - loss: 0.0327 - accuracy: 0.9900 - val_loss: 0.2710 - val_accuracy: 0.8987\n",
            "Epoch 30/50\n",
            "WARNING:tensorflow:multiprocessing can interact badly with TensorFlow, causing nondeterministic deadlocks. For high performance data pipelines tf.data is recommended.\n",
            "392/400 [============================>.] - ETA: 0s - loss: 0.0318 - accuracy: 0.9908WARNING:tensorflow:multiprocessing can interact badly with TensorFlow, causing nondeterministic deadlocks. For high performance data pipelines tf.data is recommended.\n",
            "WARNING:tensorflow:multiprocessing can interact badly with TensorFlow, causing nondeterministic deadlocks. For high performance data pipelines tf.data is recommended.\n",
            "400/400 [==============================] - 6s 11ms/step - loss: 0.0318 - accuracy: 0.9908 - val_loss: 0.0867 - val_accuracy: 0.9763\n",
            "Epoch 31/50\n",
            "WARNING:tensorflow:multiprocessing can interact badly with TensorFlow, causing nondeterministic deadlocks. For high performance data pipelines tf.data is recommended.\n",
            "394/400 [============================>.] - ETA: 0s - loss: 0.0278 - accuracy: 0.9909WARNING:tensorflow:multiprocessing can interact badly with TensorFlow, causing nondeterministic deadlocks. For high performance data pipelines tf.data is recommended.\n",
            "WARNING:tensorflow:multiprocessing can interact badly with TensorFlow, causing nondeterministic deadlocks. For high performance data pipelines tf.data is recommended.\n",
            "400/400 [==============================] - 6s 12ms/step - loss: 0.0278 - accuracy: 0.9909 - val_loss: 0.0911 - val_accuracy: 0.9752\n",
            "Epoch 32/50\n",
            "WARNING:tensorflow:multiprocessing can interact badly with TensorFlow, causing nondeterministic deadlocks. For high performance data pipelines tf.data is recommended.\n",
            "394/400 [============================>.] - ETA: 0s - loss: 0.0278 - accuracy: 0.9915WARNING:tensorflow:multiprocessing can interact badly with TensorFlow, causing nondeterministic deadlocks. For high performance data pipelines tf.data is recommended.\n",
            "WARNING:tensorflow:multiprocessing can interact badly with TensorFlow, causing nondeterministic deadlocks. For high performance data pipelines tf.data is recommended.\n",
            "400/400 [==============================] - 6s 12ms/step - loss: 0.0279 - accuracy: 0.9915 - val_loss: 0.0553 - val_accuracy: 0.9871\n",
            "Epoch 33/50\n",
            "WARNING:tensorflow:multiprocessing can interact badly with TensorFlow, causing nondeterministic deadlocks. For high performance data pipelines tf.data is recommended.\n",
            "393/400 [============================>.] - ETA: 0s - loss: 0.0266 - accuracy: 0.9916WARNING:tensorflow:multiprocessing can interact badly with TensorFlow, causing nondeterministic deadlocks. For high performance data pipelines tf.data is recommended.\n",
            "WARNING:tensorflow:multiprocessing can interact badly with TensorFlow, causing nondeterministic deadlocks. For high performance data pipelines tf.data is recommended.\n",
            "400/400 [==============================] - 6s 11ms/step - loss: 0.0266 - accuracy: 0.9916 - val_loss: 0.1267 - val_accuracy: 0.9555\n",
            "Epoch 34/50\n",
            "WARNING:tensorflow:multiprocessing can interact badly with TensorFlow, causing nondeterministic deadlocks. For high performance data pipelines tf.data is recommended.\n",
            "392/400 [============================>.] - ETA: 0s - loss: 0.0330 - accuracy: 0.9898WARNING:tensorflow:multiprocessing can interact badly with TensorFlow, causing nondeterministic deadlocks. For high performance data pipelines tf.data is recommended.\n",
            "WARNING:tensorflow:multiprocessing can interact badly with TensorFlow, causing nondeterministic deadlocks. For high performance data pipelines tf.data is recommended.\n",
            "400/400 [==============================] - 6s 12ms/step - loss: 0.0330 - accuracy: 0.9898 - val_loss: 0.0643 - val_accuracy: 0.9847\n",
            "Epoch 35/50\n",
            "WARNING:tensorflow:multiprocessing can interact badly with TensorFlow, causing nondeterministic deadlocks. For high performance data pipelines tf.data is recommended.\n",
            "399/400 [============================>.] - ETA: 0s - loss: 0.0319 - accuracy: 0.9904WARNING:tensorflow:multiprocessing can interact badly with TensorFlow, causing nondeterministic deadlocks. For high performance data pipelines tf.data is recommended.\n",
            "WARNING:tensorflow:multiprocessing can interact badly with TensorFlow, causing nondeterministic deadlocks. For high performance data pipelines tf.data is recommended.\n",
            "400/400 [==============================] - 6s 12ms/step - loss: 0.0319 - accuracy: 0.9904 - val_loss: 0.0516 - val_accuracy: 0.9869\n",
            "Epoch 36/50\n",
            "WARNING:tensorflow:multiprocessing can interact badly with TensorFlow, causing nondeterministic deadlocks. For high performance data pipelines tf.data is recommended.\n",
            "390/400 [============================>.] - ETA: 0s - loss: 0.0256 - accuracy: 0.9921WARNING:tensorflow:multiprocessing can interact badly with TensorFlow, causing nondeterministic deadlocks. For high performance data pipelines tf.data is recommended.\n",
            "WARNING:tensorflow:multiprocessing can interact badly with TensorFlow, causing nondeterministic deadlocks. For high performance data pipelines tf.data is recommended.\n",
            "400/400 [==============================] - 6s 11ms/step - loss: 0.0257 - accuracy: 0.9921 - val_loss: 0.0488 - val_accuracy: 0.9856\n",
            "Epoch 37/50\n",
            "WARNING:tensorflow:multiprocessing can interact badly with TensorFlow, causing nondeterministic deadlocks. For high performance data pipelines tf.data is recommended.\n",
            "400/400 [==============================] - ETA: 0s - loss: 0.0267 - accuracy: 0.9916WARNING:tensorflow:multiprocessing can interact badly with TensorFlow, causing nondeterministic deadlocks. For high performance data pipelines tf.data is recommended.\n",
            "WARNING:tensorflow:multiprocessing can interact badly with TensorFlow, causing nondeterministic deadlocks. For high performance data pipelines tf.data is recommended.\n",
            "400/400 [==============================] - 6s 12ms/step - loss: 0.0267 - accuracy: 0.9916 - val_loss: 0.1081 - val_accuracy: 0.9691\n",
            "Epoch 38/50\n",
            "WARNING:tensorflow:multiprocessing can interact badly with TensorFlow, causing nondeterministic deadlocks. For high performance data pipelines tf.data is recommended.\n",
            "383/400 [===========================>..] - ETA: 0s - loss: 0.0258 - accuracy: 0.9923WARNING:tensorflow:multiprocessing can interact badly with TensorFlow, causing nondeterministic deadlocks. For high performance data pipelines tf.data is recommended.\n",
            "WARNING:tensorflow:multiprocessing can interact badly with TensorFlow, causing nondeterministic deadlocks. For high performance data pipelines tf.data is recommended.\n",
            "400/400 [==============================] - 7s 12ms/step - loss: 0.0259 - accuracy: 0.9923 - val_loss: 0.0765 - val_accuracy: 0.9790\n",
            "Epoch 39/50\n",
            "WARNING:tensorflow:multiprocessing can interact badly with TensorFlow, causing nondeterministic deadlocks. For high performance data pipelines tf.data is recommended.\n",
            "390/400 [============================>.] - ETA: 0s - loss: 0.0300 - accuracy: 0.9913WARNING:tensorflow:multiprocessing can interact badly with TensorFlow, causing nondeterministic deadlocks. For high performance data pipelines tf.data is recommended.\n",
            "WARNING:tensorflow:multiprocessing can interact badly with TensorFlow, causing nondeterministic deadlocks. For high performance data pipelines tf.data is recommended.\n",
            "400/400 [==============================] - 6s 13ms/step - loss: 0.0299 - accuracy: 0.9913 - val_loss: 0.0629 - val_accuracy: 0.9831\n",
            "Epoch 40/50\n",
            "WARNING:tensorflow:multiprocessing can interact badly with TensorFlow, causing nondeterministic deadlocks. For high performance data pipelines tf.data is recommended.\n",
            "399/400 [============================>.] - ETA: 0s - loss: 0.0235 - accuracy: 0.9934WARNING:tensorflow:multiprocessing can interact badly with TensorFlow, causing nondeterministic deadlocks. For high performance data pipelines tf.data is recommended.\n",
            "WARNING:tensorflow:multiprocessing can interact badly with TensorFlow, causing nondeterministic deadlocks. For high performance data pipelines tf.data is recommended.\n",
            "400/400 [==============================] - 6s 11ms/step - loss: 0.0235 - accuracy: 0.9934 - val_loss: 0.0985 - val_accuracy: 0.9719\n",
            "Epoch 41/50\n",
            "WARNING:tensorflow:multiprocessing can interact badly with TensorFlow, causing nondeterministic deadlocks. For high performance data pipelines tf.data is recommended.\n",
            "396/400 [============================>.] - ETA: 0s - loss: 0.0237 - accuracy: 0.9924WARNING:tensorflow:multiprocessing can interact badly with TensorFlow, causing nondeterministic deadlocks. For high performance data pipelines tf.data is recommended.\n",
            "WARNING:tensorflow:multiprocessing can interact badly with TensorFlow, causing nondeterministic deadlocks. For high performance data pipelines tf.data is recommended.\n",
            "400/400 [==============================] - 7s 13ms/step - loss: 0.0237 - accuracy: 0.9924 - val_loss: 0.0537 - val_accuracy: 0.9863\n",
            "Epoch 42/50\n",
            "WARNING:tensorflow:multiprocessing can interact badly with TensorFlow, causing nondeterministic deadlocks. For high performance data pipelines tf.data is recommended.\n",
            "398/400 [============================>.] - ETA: 0s - loss: 0.0286 - accuracy: 0.9922WARNING:tensorflow:multiprocessing can interact badly with TensorFlow, causing nondeterministic deadlocks. For high performance data pipelines tf.data is recommended.\n",
            "400/400 [==============================] - ETA: 0s - loss: 0.0286 - accuracy: 0.9922WARNING:tensorflow:multiprocessing can interact badly with TensorFlow, causing nondeterministic deadlocks. For high performance data pipelines tf.data is recommended.\n",
            "400/400 [==============================] - 6s 12ms/step - loss: 0.0285 - accuracy: 0.9922 - val_loss: 0.0803 - val_accuracy: 0.9794\n",
            "Epoch 43/50\n",
            "WARNING:tensorflow:multiprocessing can interact badly with TensorFlow, causing nondeterministic deadlocks. For high performance data pipelines tf.data is recommended.\n",
            "396/400 [============================>.] - ETA: 0s - loss: 0.0287 - accuracy: 0.9911WARNING:tensorflow:multiprocessing can interact badly with TensorFlow, causing nondeterministic deadlocks. For high performance data pipelines tf.data is recommended.\n",
            "WARNING:tensorflow:multiprocessing can interact badly with TensorFlow, causing nondeterministic deadlocks. For high performance data pipelines tf.data is recommended.\n",
            "400/400 [==============================] - 7s 13ms/step - loss: 0.0287 - accuracy: 0.9911 - val_loss: 0.1203 - val_accuracy: 0.9615\n",
            "Epoch 44/50\n",
            "WARNING:tensorflow:multiprocessing can interact badly with TensorFlow, causing nondeterministic deadlocks. For high performance data pipelines tf.data is recommended.\n",
            "396/400 [============================>.] - ETA: 0s - loss: 0.0272 - accuracy: 0.9915WARNING:tensorflow:multiprocessing can interact badly with TensorFlow, causing nondeterministic deadlocks. For high performance data pipelines tf.data is recommended.\n",
            "WARNING:tensorflow:multiprocessing can interact badly with TensorFlow, causing nondeterministic deadlocks. For high performance data pipelines tf.data is recommended.\n",
            "400/400 [==============================] - 6s 11ms/step - loss: 0.0272 - accuracy: 0.9915 - val_loss: 0.0372 - val_accuracy: 0.9914\n",
            "Epoch 45/50\n",
            "WARNING:tensorflow:multiprocessing can interact badly with TensorFlow, causing nondeterministic deadlocks. For high performance data pipelines tf.data is recommended.\n",
            "394/400 [============================>.] - ETA: 0s - loss: 0.0248 - accuracy: 0.9927WARNING:tensorflow:multiprocessing can interact badly with TensorFlow, causing nondeterministic deadlocks. For high performance data pipelines tf.data is recommended.\n",
            "WARNING:tensorflow:multiprocessing can interact badly with TensorFlow, causing nondeterministic deadlocks. For high performance data pipelines tf.data is recommended.\n",
            "400/400 [==============================] - 6s 11ms/step - loss: 0.0248 - accuracy: 0.9927 - val_loss: 0.0399 - val_accuracy: 0.9891\n",
            "Epoch 46/50\n",
            "WARNING:tensorflow:multiprocessing can interact badly with TensorFlow, causing nondeterministic deadlocks. For high performance data pipelines tf.data is recommended.\n",
            "390/400 [============================>.] - ETA: 0s - loss: 0.0239 - accuracy: 0.9927WARNING:tensorflow:multiprocessing can interact badly with TensorFlow, causing nondeterministic deadlocks. For high performance data pipelines tf.data is recommended.\n",
            "WARNING:tensorflow:multiprocessing can interact badly with TensorFlow, causing nondeterministic deadlocks. For high performance data pipelines tf.data is recommended.\n",
            "400/400 [==============================] - 6s 11ms/step - loss: 0.0239 - accuracy: 0.9927 - val_loss: 0.0589 - val_accuracy: 0.9856\n",
            "Epoch 47/50\n",
            "WARNING:tensorflow:multiprocessing can interact badly with TensorFlow, causing nondeterministic deadlocks. For high performance data pipelines tf.data is recommended.\n",
            "392/400 [============================>.] - ETA: 0s - loss: 0.0244 - accuracy: 0.9925WARNING:tensorflow:multiprocessing can interact badly with TensorFlow, causing nondeterministic deadlocks. For high performance data pipelines tf.data is recommended.\n",
            "WARNING:tensorflow:multiprocessing can interact badly with TensorFlow, causing nondeterministic deadlocks. For high performance data pipelines tf.data is recommended.\n",
            "400/400 [==============================] - 6s 12ms/step - loss: 0.0244 - accuracy: 0.9925 - val_loss: 0.0717 - val_accuracy: 0.9792\n",
            "Epoch 48/50\n",
            "WARNING:tensorflow:multiprocessing can interact badly with TensorFlow, causing nondeterministic deadlocks. For high performance data pipelines tf.data is recommended.\n",
            "397/400 [============================>.] - ETA: 0s - loss: 0.0250 - accuracy: 0.9931WARNING:tensorflow:multiprocessing can interact badly with TensorFlow, causing nondeterministic deadlocks. For high performance data pipelines tf.data is recommended.\n",
            "WARNING:tensorflow:multiprocessing can interact badly with TensorFlow, causing nondeterministic deadlocks. For high performance data pipelines tf.data is recommended.\n",
            "400/400 [==============================] - 7s 13ms/step - loss: 0.0250 - accuracy: 0.9931 - val_loss: 0.0517 - val_accuracy: 0.9871\n",
            "Epoch 49/50\n",
            "WARNING:tensorflow:multiprocessing can interact badly with TensorFlow, causing nondeterministic deadlocks. For high performance data pipelines tf.data is recommended.\n",
            "385/400 [===========================>..] - ETA: 0s - loss: 0.0233 - accuracy: 0.9921WARNING:tensorflow:multiprocessing can interact badly with TensorFlow, causing nondeterministic deadlocks. For high performance data pipelines tf.data is recommended.\n",
            "WARNING:tensorflow:multiprocessing can interact badly with TensorFlow, causing nondeterministic deadlocks. For high performance data pipelines tf.data is recommended.\n",
            "400/400 [==============================] - 6s 12ms/step - loss: 0.0234 - accuracy: 0.9921 - val_loss: 0.0638 - val_accuracy: 0.9821\n",
            "Epoch 50/50\n",
            "WARNING:tensorflow:multiprocessing can interact badly with TensorFlow, causing nondeterministic deadlocks. For high performance data pipelines tf.data is recommended.\n",
            "400/400 [==============================] - ETA: 0s - loss: 0.0273 - accuracy: 0.9914WARNING:tensorflow:multiprocessing can interact badly with TensorFlow, causing nondeterministic deadlocks. For high performance data pipelines tf.data is recommended.\n",
            "WARNING:tensorflow:multiprocessing can interact badly with TensorFlow, causing nondeterministic deadlocks. For high performance data pipelines tf.data is recommended.\n",
            "400/400 [==============================] - 6s 12ms/step - loss: 0.0273 - accuracy: 0.9914 - val_loss: 0.0927 - val_accuracy: 0.9716\n"
          ]
        },
        {
          "data": {
            "text/plain": [
              "<tensorflow.python.keras.callbacks.History at 0x7f49dc03e9b0>"
            ]
          },
          "execution_count": 9,
          "metadata": {},
          "output_type": "execute_result"
        }
      ],
      "source": [
        "batch_size = 120\n",
        "epochs=50\n",
        "\n",
        "validation_percentage=0.2\n",
        "\n",
        "train_images=x_train[0:int(len(x_train)*(1-validation_percentage))]\n",
        "validation_images=x_train[int(len(x_train)*(1-validation_percentage)):len(x_train)-1]\n",
        "\n",
        "train_gt=y_train[0:int(len(x_train)*(1-validation_percentage))]\n",
        "validation_gt=y_train[int(len(x_train)*(1-validation_percentage)):len(x_train)-1]\n",
        "\n",
        "training_batch_generator=data_generator(train_images,train_gt,batch_size)\n",
        "validation_batch_generator=data_generator(validation_images,validation_gt,batch_size)\n",
        "num_training_samples=len(train_images)\n",
        "num_validation_samples=len(validation_images)\n",
        "\n",
        "checkpoint = keras.callbacks.ModelCheckpoint(\"model-{epoch:03d}-{accuracy}-{val_accuracy}.h5\",save_best_only=True,monitor=\"val_accuracy\")\n",
        "\n",
        "\n",
        "model.fit_generator(generator=training_batch_generator,\n",
        "                    steps_per_epoch = (num_training_samples//batch_size),\n",
        "                    epochs=epochs,\n",
        "                    verbose=1,\n",
        "                    validation_data=validation_batch_generator,\n",
        "                    validation_steps=(num_validation_samples //batch_size),\n",
        "                    use_multiprocessing=True,\n",
        "                    workers=16,\n",
        "                    max_queue_size=32,\n",
        "                    shuffle=True,\n",
        "                    callbacks=checkpoint)\n",
        "\n"
      ]
    },
    {
      "cell_type": "code",
      "execution_count": null,
      "metadata": {
        "id": "deCOpUzHqu7O"
      },
      "outputs": [],
      "source": [
        "predictionModel = keras.models.load_model(\"model-044-0.9919583201408386-0.9914141297340393.h5\")"
      ]
    },
    {
      "cell_type": "code",
      "execution_count": null,
      "metadata": {
        "colab": {
          "base_uri": "https://localhost:8080/"
        },
        "id": "_AuCCOTdq1WW",
        "outputId": "ce8b4bbf-f46b-44ad-c79f-f514c4591231"
      },
      "outputs": [
        {
          "name": "stdout",
          "output_type": "stream",
          "text": [
            "original          : [7 0 4 7 9 2 1 3 1 4 3 5 3 6 7 7 2 8 6 7 2 0 7 7 1 2 4 3 2 7 3 8 6 7 0]\n",
            "scaled to (48,48) : [7 0 7 1 7 2 1 7 1 7 2 5 2 6 7 7 2 2 6 7 2 0 7 1 4 7 7 2 2 7 7 0 6 7 7]\n"
          ]
        }
      ],
      "source": [
        "selection = 35\n",
        "pred =  np.argmax(predictionModel.predict(x_train[:selection]),axis=1)\n",
        "upScale48=[]\n",
        "for i in range(selection):\n",
        "    img=cv2.resize(x_train[i],(48,48))\n",
        "    upScale48.append(img)\n",
        "upScale48 = np.array(upScale48)\n",
        "predUpScale48 = np.argmax(predictionModel.predict(upScale48),axis=1)\n",
        "print(\"original          :\",pred)\n",
        "print(\"scaled to (48,48) :\",predUpScale48)"
      ]
    },
    {
      "cell_type": "code",
      "execution_count": null,
      "metadata": {
        "id": "yFbgsiIXi8dz"
      },
      "outputs": [],
      "source": [
        ""
      ]
    }
  ],
  "metadata": {
    "accelerator": "GPU",
    "colab": {
      "collapsed_sections": [],
      "name": "DL08 (1).ipynb",
      "provenance": []
    },
    "kernelspec": {
      "display_name": "Python 3",
      "language": "python",
      "name": "python3"
    },
    "language_info": {
      "codemirror_mode": {
        "name": "ipython",
        "version": 3
      },
      "file_extension": ".py",
      "mimetype": "text/x-python",
      "name": "python",
      "nbconvert_exporter": "python",
      "pygments_lexer": "ipython3",
      "version": "3.6.9"
    }
  },
  "nbformat": 4,
  "nbformat_minor": 0
}